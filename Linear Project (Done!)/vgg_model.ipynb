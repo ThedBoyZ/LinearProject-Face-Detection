{
 "cells": [
  {
   "cell_type": "code",
   "execution_count": 2,
   "metadata": {},
   "outputs": [],
   "source": [
    "from keras.applications.resnet50 import ResNet50\n",
    "from keras.applications.vgg16 import VGG16\n",
    "from keras.layers import Dense, Flatten\n",
    "from keras.models import Model\n",
    "import tensorflow as tf"
   ]
  },
  {
   "cell_type": "code",
   "execution_count": 3,
   "metadata": {},
   "outputs": [],
   "source": [
    "num_classes = 4\n",
    "img_rows, img_cols = 224, 224"
   ]
  },
  {
   "cell_type": "code",
   "execution_count": 4,
   "metadata": {},
   "outputs": [],
   "source": [
    "vgg = VGG16(include_top=False, input_shape=(img_rows, img_cols, 3))"
   ]
  },
  {
   "cell_type": "code",
   "execution_count": 5,
   "metadata": {},
   "outputs": [],
   "source": [
    "for layer in vgg.layers:\n",
    "    layer.trainable = False"
   ]
  },
  {
   "cell_type": "code",
   "execution_count": 6,
   "metadata": {},
   "outputs": [
    {
     "name": "stdout",
     "output_type": "stream",
     "text": [
      "Model: \"vgg16\"\n",
      "_________________________________________________________________\n",
      " Layer (type)                Output Shape              Param #   \n",
      "=================================================================\n",
      " input_1 (InputLayer)        [(None, 224, 224, 3)]     0         \n",
      "                                                                 \n",
      " block1_conv1 (Conv2D)       (None, 224, 224, 64)      1792      \n",
      "                                                                 \n",
      " block1_conv2 (Conv2D)       (None, 224, 224, 64)      36928     \n",
      "                                                                 \n",
      " block1_pool (MaxPooling2D)  (None, 112, 112, 64)      0         \n",
      "                                                                 \n",
      " block2_conv1 (Conv2D)       (None, 112, 112, 128)     73856     \n",
      "                                                                 \n",
      " block2_conv2 (Conv2D)       (None, 112, 112, 128)     147584    \n",
      "                                                                 \n",
      " block2_pool (MaxPooling2D)  (None, 56, 56, 128)       0         \n",
      "                                                                 \n",
      " block3_conv1 (Conv2D)       (None, 56, 56, 256)       295168    \n",
      "                                                                 \n",
      " block3_conv2 (Conv2D)       (None, 56, 56, 256)       590080    \n",
      "                                                                 \n",
      " block3_conv3 (Conv2D)       (None, 56, 56, 256)       590080    \n",
      "                                                                 \n",
      " block3_pool (MaxPooling2D)  (None, 28, 28, 256)       0         \n",
      "                                                                 \n",
      " block4_conv1 (Conv2D)       (None, 28, 28, 512)       1180160   \n",
      "                                                                 \n",
      " block4_conv2 (Conv2D)       (None, 28, 28, 512)       2359808   \n",
      "                                                                 \n",
      " block4_conv3 (Conv2D)       (None, 28, 28, 512)       2359808   \n",
      "                                                                 \n",
      " block4_pool (MaxPooling2D)  (None, 14, 14, 512)       0         \n",
      "                                                                 \n",
      " block5_conv1 (Conv2D)       (None, 14, 14, 512)       2359808   \n",
      "                                                                 \n",
      " block5_conv2 (Conv2D)       (None, 14, 14, 512)       2359808   \n",
      "                                                                 \n",
      " block5_conv3 (Conv2D)       (None, 14, 14, 512)       2359808   \n",
      "                                                                 \n",
      " block5_pool (MaxPooling2D)  (None, 7, 7, 512)         0         \n",
      "                                                                 \n",
      "=================================================================\n",
      "Total params: 14714688 (56.13 MB)\n",
      "Trainable params: 0 (0.00 Byte)\n",
      "Non-trainable params: 14714688 (56.13 MB)\n",
      "_________________________________________________________________\n"
     ]
    }
   ],
   "source": [
    "vgg.summary()"
   ]
  },
  {
   "cell_type": "code",
   "execution_count": 7,
   "metadata": {},
   "outputs": [
    {
     "data": {
      "text/plain": [
       "[<keras.src.engine.input_layer.InputLayer at 0x1a959f15850>,\n",
       " <keras.src.layers.convolutional.conv2d.Conv2D at 0x1a95c9e3390>,\n",
       " <keras.src.layers.convolutional.conv2d.Conv2D at 0x1a95afa4590>,\n",
       " <keras.src.layers.pooling.max_pooling2d.MaxPooling2D at 0x1a95ca00b90>,\n",
       " <keras.src.layers.convolutional.conv2d.Conv2D at 0x1a95c99e890>,\n",
       " <keras.src.layers.convolutional.conv2d.Conv2D at 0x1a95aa84d90>,\n",
       " <keras.src.layers.pooling.max_pooling2d.MaxPooling2D at 0x1a95c9c9fd0>,\n",
       " <keras.src.layers.convolutional.conv2d.Conv2D at 0x1a95c8d3ad0>,\n",
       " <keras.src.layers.convolutional.conv2d.Conv2D at 0x1a95a6f9d10>,\n",
       " <keras.src.layers.convolutional.conv2d.Conv2D at 0x1a95ab35390>,\n",
       " <keras.src.layers.pooling.max_pooling2d.MaxPooling2D at 0x1a946956f90>,\n",
       " <keras.src.layers.convolutional.conv2d.Conv2D at 0x1a95ca79490>,\n",
       " <keras.src.layers.convolutional.conv2d.Conv2D at 0x1a95ca76950>,\n",
       " <keras.src.layers.convolutional.conv2d.Conv2D at 0x1a93445db50>,\n",
       " <keras.src.layers.pooling.max_pooling2d.MaxPooling2D at 0x1a95ca69010>,\n",
       " <keras.src.layers.convolutional.conv2d.Conv2D at 0x1a95ca86cd0>,\n",
       " <keras.src.layers.convolutional.conv2d.Conv2D at 0x1a95ca87a10>,\n",
       " <keras.src.layers.convolutional.conv2d.Conv2D at 0x1a95ca26790>,\n",
       " <keras.src.layers.pooling.max_pooling2d.MaxPooling2D at 0x1a95c9e3e10>]"
      ]
     },
     "execution_count": 7,
     "metadata": {},
     "output_type": "execute_result"
    }
   ],
   "source": [
    "vgg.layers"
   ]
  },
  {
   "cell_type": "code",
   "execution_count": 8,
   "metadata": {},
   "outputs": [],
   "source": [
    "def build_model(pre_model):\n",
    "    model = Flatten()(pre_model.output)\n",
    "    d1 = Dense(2048, activation='relu')(model)\n",
    "    d2 = Dense(512, activation='relu')(d1)\n",
    "    d3 = Dense(128, activation='relu')(d2)\n",
    "    d4 = Dense(64, activation='relu')(d3)\n",
    "    output = Dense(num_classes, activation='softmax')(d4)\n",
    "    return Model(inputs=pre_model.input, outputs=output)"
   ]
  },
  {
   "cell_type": "code",
   "execution_count": 9,
   "metadata": {},
   "outputs": [],
   "source": [
    "face_recog_model = build_model(vgg)"
   ]
  },
  {
   "cell_type": "code",
   "execution_count": 10,
   "metadata": {},
   "outputs": [
    {
     "data": {
      "text/plain": [
       "[<KerasTensor: shape=(None, 4) dtype=float32 (created by layer 'dense_4')>]"
      ]
     },
     "execution_count": 10,
     "metadata": {},
     "output_type": "execute_result"
    }
   ],
   "source": [
    "face_recog_model.outputs"
   ]
  },
  {
   "cell_type": "code",
   "execution_count": 11,
   "metadata": {},
   "outputs": [
    {
     "data": {
      "text/plain": [
       "[<KerasTensor: shape=(None, 224, 224, 3) dtype=float32 (created by layer 'input_1')>]"
      ]
     },
     "execution_count": 11,
     "metadata": {},
     "output_type": "execute_result"
    }
   ],
   "source": [
    "face_recog_model.inputs\n"
   ]
  },
  {
   "cell_type": "code",
   "execution_count": 12,
   "metadata": {},
   "outputs": [],
   "source": [
    "face_recog_model.compile(optimizer=tf.keras.optimizers.Adam(learning_rate=0.0001), loss=tf.keras.losses.categorical_crossentropy, metrics=['accuracy'])"
   ]
  },
  {
   "cell_type": "code",
   "execution_count": 13,
   "metadata": {},
   "outputs": [],
   "source": [
    "train_path = 'images/train_set/'\n",
    "valid_path = 'images/validation_set/'"
   ]
  },
  {
   "cell_type": "code",
   "execution_count": 14,
   "metadata": {},
   "outputs": [],
   "source": [
    "from keras.preprocessing.image import ImageDataGenerator, load_img, img_to_array"
   ]
  },
  {
   "cell_type": "code",
   "execution_count": 15,
   "metadata": {},
   "outputs": [],
   "source": [
    "train_datagen = ImageDataGenerator(rescale=1./255, shear_range=0.2, zoom_range=0.2, horizontal_flip=True)\n",
    "\n",
    "test_datagen = ImageDataGenerator(rescale=1./255)"
   ]
  },
  {
   "cell_type": "code",
   "execution_count": 16,
   "metadata": {},
   "outputs": [
    {
     "name": "stdout",
     "output_type": "stream",
     "text": [
      "Found 120 images belonging to 4 classes.\n"
     ]
    }
   ],
   "source": [
    "training_set = train_datagen.flow_from_directory(\n",
    "    train_path,\n",
    "    target_size=(img_rows, img_cols),\n",
    "    batch_size=32,\n",
    "    class_mode='categorical')\n"
   ]
  },
  {
   "cell_type": "code",
   "execution_count": 17,
   "metadata": {},
   "outputs": [
    {
     "name": "stdout",
     "output_type": "stream",
     "text": [
      "Found 40 images belonging to 4 classes.\n"
     ]
    }
   ],
   "source": [
    "test_set = test_datagen.flow_from_directory(\n",
    "    valid_path,\n",
    "    target_size=(img_rows, img_cols),\n",
    "    batch_size=32,\n",
    "    class_mode='categorical')"
   ]
  },
  {
   "cell_type": "code",
   "execution_count": 18,
   "metadata": {},
   "outputs": [
    {
     "data": {
      "text/plain": [
       "{'class-0': 0, 'class-1': 1, 'class-2': 2, 'class-3': 3}"
      ]
     },
     "execution_count": 18,
     "metadata": {},
     "output_type": "execute_result"
    }
   ],
   "source": [
    "training_set.class_indices"
   ]
  },
  {
   "cell_type": "code",
   "execution_count": 19,
   "metadata": {},
   "outputs": [
    {
     "data": {
      "text/plain": [
       "{'class-0': 0, 'class-1': 1, 'class-2': 2, 'class-3': 3}"
      ]
     },
     "execution_count": 19,
     "metadata": {},
     "output_type": "execute_result"
    }
   ],
   "source": [
    "test_set.class_indices"
   ]
  },
  {
   "cell_type": "code",
   "execution_count": 20,
   "metadata": {},
   "outputs": [
    {
     "data": {
      "text/plain": [
       "<keras.src.preprocessing.image.DirectoryIterator at 0x1a95cbeff10>"
      ]
     },
     "execution_count": 20,
     "metadata": {},
     "output_type": "execute_result"
    }
   ],
   "source": [
    "test_set"
   ]
  },
  {
   "cell_type": "code",
   "execution_count": 21,
   "metadata": {},
   "outputs": [
    {
     "data": {
      "text/plain": [
       "'channels_last'"
      ]
     },
     "execution_count": 21,
     "metadata": {},
     "output_type": "execute_result"
    }
   ],
   "source": [
    "test_set.data_format"
   ]
  },
  {
   "cell_type": "code",
   "execution_count": 22,
   "metadata": {},
   "outputs": [
    {
     "data": {
      "text/plain": [
       "['images/validation_set/class-0\\\\34.jpg',\n",
       " 'images/validation_set/class-0\\\\43.jpg',\n",
       " 'images/validation_set/class-0\\\\46.jpg',\n",
       " 'images/validation_set/class-0\\\\47.jpg',\n",
       " 'images/validation_set/class-0\\\\48.jpg',\n",
       " 'images/validation_set/class-0\\\\49.jpg',\n",
       " 'images/validation_set/class-0\\\\51.jpg',\n",
       " 'images/validation_set/class-0\\\\aug_0_281.jpg',\n",
       " 'images/validation_set/class-0\\\\aug_0_5837.jpg',\n",
       " 'images/validation_set/class-0\\\\aug_0_9538.jpg',\n",
       " 'images/validation_set/class-1\\\\10.jpg',\n",
       " 'images/validation_set/class-1\\\\20.jpg',\n",
       " 'images/validation_set/class-1\\\\9.jpg',\n",
       " 'images/validation_set/class-1\\\\aug_0_105.jpg',\n",
       " 'images/validation_set/class-1\\\\aug_0_3073.jpg',\n",
       " 'images/validation_set/class-1\\\\aug_0_313.jpg',\n",
       " 'images/validation_set/class-1\\\\aug_0_3521.jpg',\n",
       " 'images/validation_set/class-1\\\\aug_0_3834.jpg',\n",
       " 'images/validation_set/class-1\\\\aug_0_3883.jpg',\n",
       " 'images/validation_set/class-1\\\\aug_0_9843.jpg',\n",
       " 'images/validation_set/class-2\\\\15.jpg',\n",
       " 'images/validation_set/class-2\\\\18.jpg',\n",
       " 'images/validation_set/class-2\\\\20.jpg',\n",
       " 'images/validation_set/class-2\\\\22.jpg',\n",
       " 'images/validation_set/class-2\\\\27.jpg',\n",
       " 'images/validation_set/class-2\\\\28.jpg',\n",
       " 'images/validation_set/class-2\\\\32.jpg',\n",
       " 'images/validation_set/class-2\\\\34.jpg',\n",
       " 'images/validation_set/class-2\\\\6.jpg',\n",
       " 'images/validation_set/class-2\\\\8.jpg',\n",
       " 'images/validation_set/class-3\\\\10.jpg',\n",
       " 'images/validation_set/class-3\\\\16.jpg',\n",
       " 'images/validation_set/class-3\\\\17.jpg',\n",
       " 'images/validation_set/class-3\\\\19.jpg',\n",
       " 'images/validation_set/class-3\\\\21.jpg',\n",
       " 'images/validation_set/class-3\\\\6.jpg',\n",
       " 'images/validation_set/class-3\\\\aug_0_1164.jpg',\n",
       " 'images/validation_set/class-3\\\\aug_0_6974.jpg',\n",
       " 'images/validation_set/class-3\\\\aug_0_9113.jpg',\n",
       " 'images/validation_set/class-3\\\\aug_0_9664.jpg']"
      ]
     },
     "execution_count": 22,
     "metadata": {},
     "output_type": "execute_result"
    }
   ],
   "source": [
    "test_set.filepaths"
   ]
  },
  {
   "cell_type": "code",
   "execution_count": 23,
   "metadata": {},
   "outputs": [
    {
     "data": {
      "text/plain": [
       "<keras.src.preprocessing.image.DirectoryIterator at 0x1a93440fc90>"
      ]
     },
     "execution_count": 23,
     "metadata": {},
     "output_type": "execute_result"
    }
   ],
   "source": [
    "training_set"
   ]
  },
  {
   "cell_type": "code",
   "execution_count": 24,
   "metadata": {},
   "outputs": [
    {
     "data": {
      "text/plain": [
       "'channels_last'"
      ]
     },
     "execution_count": 24,
     "metadata": {},
     "output_type": "execute_result"
    }
   ],
   "source": [
    "training_set.data_format"
   ]
  },
  {
   "cell_type": "code",
   "execution_count": 25,
   "metadata": {},
   "outputs": [
    {
     "data": {
      "text/plain": [
       "['images/train_set/class-0\\\\18.jpg',\n",
       " 'images/train_set/class-0\\\\19.jpg',\n",
       " 'images/train_set/class-0\\\\20.jpg',\n",
       " 'images/train_set/class-0\\\\21.jpg',\n",
       " 'images/train_set/class-0\\\\22.jpg',\n",
       " 'images/train_set/class-0\\\\23.jpg',\n",
       " 'images/train_set/class-0\\\\24.jpg',\n",
       " 'images/train_set/class-0\\\\25.jpg',\n",
       " 'images/train_set/class-0\\\\26.jpg',\n",
       " 'images/train_set/class-0\\\\27.jpg',\n",
       " 'images/train_set/class-0\\\\28.jpg',\n",
       " 'images/train_set/class-0\\\\29.jpg',\n",
       " 'images/train_set/class-0\\\\30.jpg',\n",
       " 'images/train_set/class-0\\\\31.jpg',\n",
       " 'images/train_set/class-0\\\\32.jpg',\n",
       " 'images/train_set/class-0\\\\33.jpg',\n",
       " 'images/train_set/class-0\\\\35.jpg',\n",
       " 'images/train_set/class-0\\\\37.jpg',\n",
       " 'images/train_set/class-0\\\\38.jpg',\n",
       " 'images/train_set/class-0\\\\39.jpg',\n",
       " 'images/train_set/class-0\\\\40.jpg',\n",
       " 'images/train_set/class-0\\\\41.jpg',\n",
       " 'images/train_set/class-0\\\\42.jpg',\n",
       " 'images/train_set/class-0\\\\44.jpg',\n",
       " 'images/train_set/class-0\\\\45.jpg',\n",
       " 'images/train_set/class-0\\\\50.jpg',\n",
       " 'images/train_set/class-0\\\\aug_0_1155.jpg',\n",
       " 'images/train_set/class-0\\\\aug_0_1224.jpg',\n",
       " 'images/train_set/class-0\\\\aug_0_3370.jpg',\n",
       " 'images/train_set/class-0\\\\aug_0_6037.jpg',\n",
       " 'images/train_set/class-1\\\\11.jpg',\n",
       " 'images/train_set/class-1\\\\12.jpg',\n",
       " 'images/train_set/class-1\\\\13.jpg',\n",
       " 'images/train_set/class-1\\\\14.jpg',\n",
       " 'images/train_set/class-1\\\\15.jpg',\n",
       " 'images/train_set/class-1\\\\16.jpg',\n",
       " 'images/train_set/class-1\\\\17.jpg',\n",
       " 'images/train_set/class-1\\\\18.jpg',\n",
       " 'images/train_set/class-1\\\\19.jpg',\n",
       " 'images/train_set/class-1\\\\2.jpg',\n",
       " 'images/train_set/class-1\\\\3.jpg',\n",
       " 'images/train_set/class-1\\\\4.jpg',\n",
       " 'images/train_set/class-1\\\\5.jpg',\n",
       " 'images/train_set/class-1\\\\6.jpg',\n",
       " 'images/train_set/class-1\\\\7.jpg',\n",
       " 'images/train_set/class-1\\\\8.jpg',\n",
       " 'images/train_set/class-1\\\\aug_0_174.jpg',\n",
       " 'images/train_set/class-1\\\\aug_0_1763.jpg',\n",
       " 'images/train_set/class-1\\\\aug_0_2629.jpg',\n",
       " 'images/train_set/class-1\\\\aug_0_2859.jpg',\n",
       " 'images/train_set/class-1\\\\aug_0_4653.jpg',\n",
       " 'images/train_set/class-1\\\\aug_0_5080.jpg',\n",
       " 'images/train_set/class-1\\\\aug_0_5296.jpg',\n",
       " 'images/train_set/class-1\\\\aug_0_5641.jpg',\n",
       " 'images/train_set/class-1\\\\aug_0_592.jpg',\n",
       " 'images/train_set/class-1\\\\aug_0_6152.jpg',\n",
       " 'images/train_set/class-1\\\\aug_0_6597.jpg',\n",
       " 'images/train_set/class-1\\\\aug_0_8034.jpg',\n",
       " 'images/train_set/class-1\\\\aug_0_9512.jpg',\n",
       " 'images/train_set/class-1\\\\aug_0_976.jpg',\n",
       " 'images/train_set/class-2\\\\10.jpg',\n",
       " 'images/train_set/class-2\\\\11.jpg',\n",
       " 'images/train_set/class-2\\\\12.jpg',\n",
       " 'images/train_set/class-2\\\\13.jpg',\n",
       " 'images/train_set/class-2\\\\14.jpg',\n",
       " 'images/train_set/class-2\\\\16.jpg',\n",
       " 'images/train_set/class-2\\\\17.jpg',\n",
       " 'images/train_set/class-2\\\\19.jpg',\n",
       " 'images/train_set/class-2\\\\2.jpg',\n",
       " 'images/train_set/class-2\\\\21.jpg',\n",
       " 'images/train_set/class-2\\\\23.jpg',\n",
       " 'images/train_set/class-2\\\\24.jpg',\n",
       " 'images/train_set/class-2\\\\25.jpg',\n",
       " 'images/train_set/class-2\\\\26.jpg',\n",
       " 'images/train_set/class-2\\\\29.jpg',\n",
       " 'images/train_set/class-2\\\\3.jpg',\n",
       " 'images/train_set/class-2\\\\30.jpg',\n",
       " 'images/train_set/class-2\\\\31.jpg',\n",
       " 'images/train_set/class-2\\\\33.jpg',\n",
       " 'images/train_set/class-2\\\\35.jpg',\n",
       " 'images/train_set/class-2\\\\36.jpg',\n",
       " 'images/train_set/class-2\\\\37.jpg',\n",
       " 'images/train_set/class-2\\\\38.jpg',\n",
       " 'images/train_set/class-2\\\\39.jpg',\n",
       " 'images/train_set/class-2\\\\4.jpg',\n",
       " 'images/train_set/class-2\\\\40.jpg',\n",
       " 'images/train_set/class-2\\\\5.jpg',\n",
       " 'images/train_set/class-2\\\\7.jpg',\n",
       " 'images/train_set/class-2\\\\9.jpg',\n",
       " 'images/train_set/class-2\\\\aug_0_7086.jpg',\n",
       " 'images/train_set/class-3\\\\10.jpg',\n",
       " 'images/train_set/class-3\\\\11.jpg',\n",
       " 'images/train_set/class-3\\\\12.jpg',\n",
       " 'images/train_set/class-3\\\\13.jpg',\n",
       " 'images/train_set/class-3\\\\14.jpg',\n",
       " 'images/train_set/class-3\\\\15.jpg',\n",
       " 'images/train_set/class-3\\\\17.jpg',\n",
       " 'images/train_set/class-3\\\\18.jpg',\n",
       " 'images/train_set/class-3\\\\2.jpg',\n",
       " 'images/train_set/class-3\\\\20.jpg',\n",
       " 'images/train_set/class-3\\\\22.jpg',\n",
       " 'images/train_set/class-3\\\\23.jpg',\n",
       " 'images/train_set/class-3\\\\25.jpg',\n",
       " 'images/train_set/class-3\\\\26.jpg',\n",
       " 'images/train_set/class-3\\\\27.jpg',\n",
       " 'images/train_set/class-3\\\\3.jpg',\n",
       " 'images/train_set/class-3\\\\4.jpg',\n",
       " 'images/train_set/class-3\\\\5.jpg',\n",
       " 'images/train_set/class-3\\\\6.jpg',\n",
       " 'images/train_set/class-3\\\\7.jpg',\n",
       " 'images/train_set/class-3\\\\8.jpg',\n",
       " 'images/train_set/class-3\\\\9.jpg',\n",
       " 'images/train_set/class-3\\\\aug_0_1148.jpg',\n",
       " 'images/train_set/class-3\\\\aug_0_1164.jpg',\n",
       " 'images/train_set/class-3\\\\aug_0_1382.jpg',\n",
       " 'images/train_set/class-3\\\\aug_0_1668.jpg',\n",
       " 'images/train_set/class-3\\\\aug_0_1933.jpg',\n",
       " 'images/train_set/class-3\\\\aug_0_194.jpg',\n",
       " 'images/train_set/class-3\\\\aug_0_2766.jpg',\n",
       " 'images/train_set/class-3\\\\aug_0_597.jpg']"
      ]
     },
     "execution_count": 25,
     "metadata": {},
     "output_type": "execute_result"
    }
   ],
   "source": [
    "training_set.filepaths"
   ]
  },
  {
   "cell_type": "code",
   "execution_count": 26,
   "metadata": {},
   "outputs": [
    {
     "data": {
      "text/plain": [
       "'images/train_set/'"
      ]
     },
     "execution_count": 26,
     "metadata": {},
     "output_type": "execute_result"
    }
   ],
   "source": [
    "training_set.directory"
   ]
  },
  {
   "cell_type": "code",
   "execution_count": 27,
   "metadata": {},
   "outputs": [
    {
     "name": "stdout",
     "output_type": "stream",
     "text": [
      "Model: \"model\"\n",
      "_________________________________________________________________\n",
      " Layer (type)                Output Shape              Param #   \n",
      "=================================================================\n",
      " input_1 (InputLayer)        [(None, 224, 224, 3)]     0         \n",
      "                                                                 \n",
      " block1_conv1 (Conv2D)       (None, 224, 224, 64)      1792      \n",
      "                                                                 \n",
      " block1_conv2 (Conv2D)       (None, 224, 224, 64)      36928     \n",
      "                                                                 \n",
      " block1_pool (MaxPooling2D)  (None, 112, 112, 64)      0         \n",
      "                                                                 \n",
      " block2_conv1 (Conv2D)       (None, 112, 112, 128)     73856     \n",
      "                                                                 \n",
      " block2_conv2 (Conv2D)       (None, 112, 112, 128)     147584    \n",
      "                                                                 \n",
      " block2_pool (MaxPooling2D)  (None, 56, 56, 128)       0         \n",
      "                                                                 \n",
      " block3_conv1 (Conv2D)       (None, 56, 56, 256)       295168    \n",
      "                                                                 \n",
      " block3_conv2 (Conv2D)       (None, 56, 56, 256)       590080    \n",
      "                                                                 \n",
      " block3_conv3 (Conv2D)       (None, 56, 56, 256)       590080    \n",
      "                                                                 \n",
      " block3_pool (MaxPooling2D)  (None, 28, 28, 256)       0         \n",
      "                                                                 \n",
      " block4_conv1 (Conv2D)       (None, 28, 28, 512)       1180160   \n",
      "                                                                 \n",
      " block4_conv2 (Conv2D)       (None, 28, 28, 512)       2359808   \n",
      "                                                                 \n",
      " block4_conv3 (Conv2D)       (None, 28, 28, 512)       2359808   \n",
      "                                                                 \n",
      " block4_pool (MaxPooling2D)  (None, 14, 14, 512)       0         \n",
      "                                                                 \n",
      " block5_conv1 (Conv2D)       (None, 14, 14, 512)       2359808   \n",
      "                                                                 \n",
      " block5_conv2 (Conv2D)       (None, 14, 14, 512)       2359808   \n",
      "                                                                 \n",
      " block5_conv3 (Conv2D)       (None, 14, 14, 512)       2359808   \n",
      "                                                                 \n",
      " block5_pool (MaxPooling2D)  (None, 7, 7, 512)         0         \n",
      "                                                                 \n",
      " flatten (Flatten)           (None, 25088)             0         \n",
      "                                                                 \n",
      " dense (Dense)               (None, 2048)              51382272  \n",
      "                                                                 \n",
      " dense_1 (Dense)             (None, 512)               1049088   \n",
      "                                                                 \n",
      " dense_2 (Dense)             (None, 128)               65664     \n",
      "                                                                 \n",
      " dense_3 (Dense)             (None, 64)                8256      \n",
      "                                                                 \n",
      " dense_4 (Dense)             (None, 4)                 260       \n",
      "                                                                 \n",
      "=================================================================\n",
      "Total params: 67220228 (256.42 MB)\n",
      "Trainable params: 52505540 (200.29 MB)\n",
      "Non-trainable params: 14714688 (56.13 MB)\n",
      "_________________________________________________________________\n"
     ]
    }
   ],
   "source": [
    "face_recog_model.summary()"
   ]
  },
  {
   "cell_type": "markdown",
   "metadata": {},
   "source": []
  },
  {
   "cell_type": "code",
   "execution_count": 28,
   "metadata": {},
   "outputs": [
    {
     "data": {
      "text/plain": [
       "<keras.src.preprocessing.image.ImageDataGenerator at 0x1a95ca85a10>"
      ]
     },
     "execution_count": 28,
     "metadata": {},
     "output_type": "execute_result"
    }
   ],
   "source": [
    "train_datagen"
   ]
  },
  {
   "cell_type": "code",
   "execution_count": 29,
   "metadata": {},
   "outputs": [
    {
     "name": "stderr",
     "output_type": "stream",
     "text": [
      "C:\\Users\\bluep\\AppData\\Local\\Temp\\ipykernel_9576\\1498896091.py:1: UserWarning: `Model.fit_generator` is deprecated and will be removed in a future version. Please use `Model.fit`, which supports generators.\n",
      "  r = face_recog_model.fit_generator(training_set, validation_data=test_set, epochs=20, steps_per_epoch=len(training_set), validation_steps=len(test_set), verbose=1)\n"
     ]
    },
    {
     "name": "stdout",
     "output_type": "stream",
     "text": [
      "Epoch 1/20\n"
     ]
    },
    {
     "name": "stdout",
     "output_type": "stream",
     "text": [
      "4/4 [==============================] - 89s 22s/step - loss: 1.4517 - accuracy: 0.3083 - val_loss: 1.1927 - val_accuracy: 0.4250\n",
      "Epoch 2/20\n",
      "4/4 [==============================] - 75s 19s/step - loss: 1.1524 - accuracy: 0.5667 - val_loss: 0.8255 - val_accuracy: 0.8750\n",
      "Epoch 3/20\n",
      "4/4 [==============================] - 73s 19s/step - loss: 0.8320 - accuracy: 0.7667 - val_loss: 0.5819 - val_accuracy: 0.9500\n",
      "Epoch 4/20\n",
      "4/4 [==============================] - 65s 16s/step - loss: 0.6431 - accuracy: 0.9167 - val_loss: 0.3966 - val_accuracy: 0.9750\n",
      "Epoch 5/20\n",
      "4/4 [==============================] - 65s 16s/step - loss: 0.5071 - accuracy: 0.9000 - val_loss: 0.3069 - val_accuracy: 0.9750\n",
      "Epoch 6/20\n",
      "4/4 [==============================] - 60s 15s/step - loss: 0.3166 - accuracy: 0.9750 - val_loss: 0.1964 - val_accuracy: 1.0000\n",
      "Epoch 7/20\n",
      "4/4 [==============================] - 79s 20s/step - loss: 0.2431 - accuracy: 0.9667 - val_loss: 0.2082 - val_accuracy: 0.9500\n",
      "Epoch 8/20\n",
      "4/4 [==============================] - 69s 17s/step - loss: 0.1887 - accuracy: 0.9833 - val_loss: 0.1258 - val_accuracy: 1.0000\n",
      "Epoch 9/20\n",
      "4/4 [==============================] - 65s 15s/step - loss: 0.1367 - accuracy: 0.9833 - val_loss: 0.1466 - val_accuracy: 0.9500\n",
      "Epoch 10/20\n",
      "4/4 [==============================] - 67s 17s/step - loss: 0.1342 - accuracy: 0.9833 - val_loss: 0.1085 - val_accuracy: 0.9750\n",
      "Epoch 11/20\n",
      "4/4 [==============================] - 75s 19s/step - loss: 0.0871 - accuracy: 1.0000 - val_loss: 0.0922 - val_accuracy: 0.9750\n",
      "Epoch 12/20\n",
      "4/4 [==============================] - 69s 17s/step - loss: 0.0890 - accuracy: 1.0000 - val_loss: 0.1202 - val_accuracy: 0.9500\n",
      "Epoch 13/20\n",
      "4/4 [==============================] - 67s 16s/step - loss: 0.0650 - accuracy: 1.0000 - val_loss: 0.0950 - val_accuracy: 0.9750\n",
      "Epoch 14/20\n",
      "4/4 [==============================] - 64s 17s/step - loss: 0.0678 - accuracy: 0.9833 - val_loss: 0.1080 - val_accuracy: 0.9500\n",
      "Epoch 15/20\n",
      "4/4 [==============================] - 60s 15s/step - loss: 0.0454 - accuracy: 1.0000 - val_loss: 0.1094 - val_accuracy: 0.9500\n",
      "Epoch 16/20\n",
      "4/4 [==============================] - 61s 15s/step - loss: 0.0406 - accuracy: 1.0000 - val_loss: 0.0928 - val_accuracy: 0.9750\n",
      "Epoch 17/20\n",
      "4/4 [==============================] - 63s 16s/step - loss: 0.0215 - accuracy: 1.0000 - val_loss: 0.0929 - val_accuracy: 0.9500\n",
      "Epoch 18/20\n",
      "4/4 [==============================] - 77s 19s/step - loss: 0.0252 - accuracy: 1.0000 - val_loss: 0.0975 - val_accuracy: 0.9500\n",
      "Epoch 19/20\n",
      "4/4 [==============================] - 77s 19s/step - loss: 0.0228 - accuracy: 1.0000 - val_loss: 0.0954 - val_accuracy: 0.9500\n",
      "Epoch 20/20\n",
      "4/4 [==============================] - 74s 20s/step - loss: 0.0175 - accuracy: 1.0000 - val_loss: 0.0913 - val_accuracy: 0.9500\n"
     ]
    }
   ],
   "source": [
    "r = face_recog_model.fit_generator(training_set, validation_data=test_set, epochs=20, steps_per_epoch=len(training_set), validation_steps=len(test_set), verbose=1)"
   ]
  },
  {
   "cell_type": "code",
   "execution_count": 30,
   "metadata": {},
   "outputs": [
    {
     "data": {
      "image/png": "[encoded data removed]",
      "text/plain": [
       "<Figure size 640x480 with 1 Axes>"
      ]
     },
     "metadata": {},
     "output_type": "display_data"
    },
    {
     "data": {
      "image/png": "[encoded data removed]",
      "text/plain": [
       "<Figure size 640x480 with 1 Axes>"
      ]
     },
     "metadata": {},
     "output_type": "display_data"
    },
    {
     "data": {
      "text/plain": [
       "<Figure size 640x480 with 0 Axes>"
      ]
     },
     "metadata": {},
     "output_type": "display_data"
    }
   ],
   "source": [
    "import matplotlib.pyplot as plt\n",
    "plt.plot(r.history['loss'], label='train loss')\n",
    "plt.plot(r.history['val_loss'], label='val loss')\n",
    "plt.legend()\n",
    "plt.show()\n",
    "plt.savefig('LossVal_loss')\n",
    "\n",
    "plt.plot(r.history['accuracy'], label='train acc')\n",
    "plt.plot(r.history['val_accuracy'], label='val acc')\n",
    "plt.legend()\n",
    "plt.show()\n",
    "plt.savefig('AccVal_acc')"
   ]
  },
  {
   "cell_type": "code",
   "execution_count": 31,
   "metadata": {},
   "outputs": [
    {
     "data": {
      "text/plain": [
       "<keras.src.callbacks.History at 0x1a95ca87ed0>"
      ]
     },
     "execution_count": 31,
     "metadata": {},
     "output_type": "execute_result"
    }
   ],
   "source": [
    "r"
   ]
  },
  {
   "cell_type": "code",
   "execution_count": 33,
   "metadata": {},
   "outputs": [
    {
     "data": {
      "text/plain": [
       "{'loss': [1.45510733127594,\n",
       "  1.0185065269470215,\n",
       "  0.7291385531425476,\n",
       "  0.5307721495628357,\n",
       "  0.34930840134620667,\n",
       "  0.21528339385986328,\n",
       "  0.15298816561698914,\n",
       "  0.10545700043439865,\n",
       "  0.09926296025514603,\n",
       "  0.08499722182750702],\n",
       " 'accuracy': [0.22499999403953552,\n",
       "  0.6083333492279053,\n",
       "  0.75,\n",
       "  0.8416666388511658,\n",
       "  0.8833333253860474,\n",
       "  0.9666666388511658,\n",
       "  0.9750000238418579,\n",
       "  1.0,\n",
       "  0.9750000238418579,\n",
       "  0.9833333492279053],\n",
       " 'val_loss': [1.1297863721847534,\n",
       "  0.7161309719085693,\n",
       "  0.44553476572036743,\n",
       "  0.3068229556083679,\n",
       "  0.21066740155220032,\n",
       "  0.1527736932039261,\n",
       "  0.14679020643234253,\n",
       "  0.12132109701633453,\n",
       "  0.1158536896109581,\n",
       "  0.11990056186914444],\n",
       " 'val_accuracy': [0.3499999940395355,\n",
       "  0.800000011920929,\n",
       "  0.925000011920929,\n",
       "  0.949999988079071,\n",
       "  0.949999988079071,\n",
       "  0.9750000238418579,\n",
       "  0.9750000238418579,\n",
       "  0.9750000238418579,\n",
       "  0.949999988079071,\n",
       "  0.9750000238418579]}"
      ]
     },
     "execution_count": 33,
     "metadata": {},
     "output_type": "execute_result"
    }
   ],
   "source": [
    "r.history"
   ]
  },
  {
   "cell_type": "code",
   "execution_count": 34,
   "metadata": {},
   "outputs": [
    {
     "data": {
      "text/plain": [
       "<keras.src.engine.functional.Functional at 0x212428e8290>"
      ]
     },
     "execution_count": 34,
     "metadata": {},
     "output_type": "execute_result"
    }
   ],
   "source": [
    "r.model"
   ]
  },
  {
   "cell_type": "code",
   "execution_count": 35,
   "metadata": {},
   "outputs": [
    {
     "data": {
      "text/plain": [
       "{'verbose': 1, 'epochs': 10, 'steps': 4}"
      ]
     },
     "execution_count": 35,
     "metadata": {},
     "output_type": "execute_result"
    }
   ],
   "source": [
    "r.params"
   ]
  },
  {
   "cell_type": "code",
   "execution_count": 36,
   "metadata": {},
   "outputs": [],
   "source": [
    "r.validation_data"
   ]
  },
  {
   "cell_type": "code",
   "execution_count": 37,
   "metadata": {},
   "outputs": [
    {
     "name": "stdout",
     "output_type": "stream",
     "text": [
      "Downloading data from https://storage.googleapis.com/tensorflow/keras-applications/resnet/resnet50_weights_tf_dim_ordering_tf_kernels_notop.h5\n",
      "94765736/94765736 [==============================] - 12s 0us/step\n"
     ]
    }
   ],
   "source": [
    "residuals = ResNet50(include_top=False, input_shape=(img_rows, img_cols, 3))"
   ]
  },
  {
   "cell_type": "code",
   "execution_count": 38,
   "metadata": {},
   "outputs": [
    {
     "name": "stdout",
     "output_type": "stream",
     "text": [
      "Model: \"resnet50\"\n",
      "__________________________________________________________________________________________________\n",
      " Layer (type)                Output Shape                 Param #   Connected to                  \n",
      "==================================================================================================\n",
      " input_2 (InputLayer)        [(None, 224, 224, 3)]        0         []                            \n",
      "                                                                                                  \n",
      " conv1_pad (ZeroPadding2D)   (None, 230, 230, 3)          0         ['input_2[0][0]']             \n",
      "                                                                                                  \n",
      " conv1_conv (Conv2D)         (None, 112, 112, 64)         9472      ['conv1_pad[0][0]']           \n",
      "                                                                                                  \n",
      " conv1_bn (BatchNormalizati  (None, 112, 112, 64)         256       ['conv1_conv[0][0]']          \n",
      " on)                                                                                              \n",
      "                                                                                                  \n",
      " conv1_relu (Activation)     (None, 112, 112, 64)         0         ['conv1_bn[0][0]']            \n",
      "                                                                                                  \n",
      " pool1_pad (ZeroPadding2D)   (None, 114, 114, 64)         0         ['conv1_relu[0][0]']          \n",
      "                                                                                                  \n",
      " pool1_pool (MaxPooling2D)   (None, 56, 56, 64)           0         ['pool1_pad[0][0]']           \n",
      "                                                                                                  \n",
      " conv2_block1_1_conv (Conv2  (None, 56, 56, 64)           4160      ['pool1_pool[0][0]']          \n",
      " D)                                                                                               \n",
      "                                                                                                  \n",
      " conv2_block1_1_bn (BatchNo  (None, 56, 56, 64)           256       ['conv2_block1_1_conv[0][0]'] \n",
      " rmalization)                                                                                     \n",
      "                                                                                                  \n",
      " conv2_block1_1_relu (Activ  (None, 56, 56, 64)           0         ['conv2_block1_1_bn[0][0]']   \n",
      " ation)                                                                                           \n",
      "                                                                                                  \n",
      " conv2_block1_2_conv (Conv2  (None, 56, 56, 64)           36928     ['conv2_block1_1_relu[0][0]'] \n",
      " D)                                                                                               \n",
      "                                                                                                  \n",
      " conv2_block1_2_bn (BatchNo  (None, 56, 56, 64)           256       ['conv2_block1_2_conv[0][0]'] \n",
      " rmalization)                                                                                     \n",
      "                                                                                                  \n",
      " conv2_block1_2_relu (Activ  (None, 56, 56, 64)           0         ['conv2_block1_2_bn[0][0]']   \n",
      " ation)                                                                                           \n",
      "                                                                                                  \n",
      " conv2_block1_0_conv (Conv2  (None, 56, 56, 256)          16640     ['pool1_pool[0][0]']          \n",
      " D)                                                                                               \n",
      "                                                                                                  \n",
      " conv2_block1_3_conv (Conv2  (None, 56, 56, 256)          16640     ['conv2_block1_2_relu[0][0]'] \n",
      " D)                                                                                               \n",
      "                                                                                                  \n",
      " conv2_block1_0_bn (BatchNo  (None, 56, 56, 256)          1024      ['conv2_block1_0_conv[0][0]'] \n",
      " rmalization)                                                                                     \n",
      "                                                                                                  \n",
      " conv2_block1_3_bn (BatchNo  (None, 56, 56, 256)          1024      ['conv2_block1_3_conv[0][0]'] \n",
      " rmalization)                                                                                     \n",
      "                                                                                                  \n",
      " conv2_block1_add (Add)      (None, 56, 56, 256)          0         ['conv2_block1_0_bn[0][0]',   \n",
      "                                                                     'conv2_block1_3_bn[0][0]']   \n",
      "                                                                                                  \n",
      " conv2_block1_out (Activati  (None, 56, 56, 256)          0         ['conv2_block1_add[0][0]']    \n",
      " on)                                                                                              \n",
      "                                                                                                  \n",
      " conv2_block2_1_conv (Conv2  (None, 56, 56, 64)           16448     ['conv2_block1_out[0][0]']    \n",
      " D)                                                                                               \n",
      "                                                                                                  \n",
      " conv2_block2_1_bn (BatchNo  (None, 56, 56, 64)           256       ['conv2_block2_1_conv[0][0]'] \n",
      " rmalization)                                                                                     \n",
      "                                                                                                  \n",
      " conv2_block2_1_relu (Activ  (None, 56, 56, 64)           0         ['conv2_block2_1_bn[0][0]']   \n",
      " ation)                                                                                           \n",
      "                                                                                                  \n",
      " conv2_block2_2_conv (Conv2  (None, 56, 56, 64)           36928     ['conv2_block2_1_relu[0][0]'] \n",
      " D)                                                                                               \n",
      "                                                                                                  \n",
      " conv2_block2_2_bn (BatchNo  (None, 56, 56, 64)           256       ['conv2_block2_2_conv[0][0]'] \n",
      " rmalization)                                                                                     \n",
      "                                                                                                  \n",
      " conv2_block2_2_relu (Activ  (None, 56, 56, 64)           0         ['conv2_block2_2_bn[0][0]']   \n",
      " ation)                                                                                           \n",
      "                                                                                                  \n",
      " conv2_block2_3_conv (Conv2  (None, 56, 56, 256)          16640     ['conv2_block2_2_relu[0][0]'] \n",
      " D)                                                                                               \n",
      "                                                                                                  \n",
      " conv2_block2_3_bn (BatchNo  (None, 56, 56, 256)          1024      ['conv2_block2_3_conv[0][0]'] \n",
      " rmalization)                                                                                     \n",
      "                                                                                                  \n",
      " conv2_block2_add (Add)      (None, 56, 56, 256)          0         ['conv2_block1_out[0][0]',    \n",
      "                                                                     'conv2_block2_3_bn[0][0]']   \n",
      "                                                                                                  \n",
      " conv2_block2_out (Activati  (None, 56, 56, 256)          0         ['conv2_block2_add[0][0]']    \n",
      " on)                                                                                              \n",
      "                                                                                                  \n",
      " conv2_block3_1_conv (Conv2  (None, 56, 56, 64)           16448     ['conv2_block2_out[0][0]']    \n",
      " D)                                                                                               \n",
      "                                                                                                  \n",
      " conv2_block3_1_bn (BatchNo  (None, 56, 56, 64)           256       ['conv2_block3_1_conv[0][0]'] \n",
      " rmalization)                                                                                     \n",
      "                                                                                                  \n",
      " conv2_block3_1_relu (Activ  (None, 56, 56, 64)           0         ['conv2_block3_1_bn[0][0]']   \n",
      " ation)                                                                                           \n",
      "                                                                                                  \n",
      " conv2_block3_2_conv (Conv2  (None, 56, 56, 64)           36928     ['conv2_block3_1_relu[0][0]'] \n",
      " D)                                                                                               \n",
      "                                                                                                  \n",
      " conv2_block3_2_bn (BatchNo  (None, 56, 56, 64)           256       ['conv2_block3_2_conv[0][0]'] \n",
      " rmalization)                                                                                     \n",
      "                                                                                                  \n",
      " conv2_block3_2_relu (Activ  (None, 56, 56, 64)           0         ['conv2_block3_2_bn[0][0]']   \n",
      " ation)                                                                                           \n",
      "                                                                                                  \n",
      " conv2_block3_3_conv (Conv2  (None, 56, 56, 256)          16640     ['conv2_block3_2_relu[0][0]'] \n",
      " D)                                                                                               \n",
      "                                                                                                  \n",
      " conv2_block3_3_bn (BatchNo  (None, 56, 56, 256)          1024      ['conv2_block3_3_conv[0][0]'] \n",
      " rmalization)                                                                                     \n",
      "                                                                                                  \n",
      " conv2_block3_add (Add)      (None, 56, 56, 256)          0         ['conv2_block2_out[0][0]',    \n",
      "                                                                     'conv2_block3_3_bn[0][0]']   \n",
      "                                                                                                  \n",
      " conv2_block3_out (Activati  (None, 56, 56, 256)          0         ['conv2_block3_add[0][0]']    \n",
      " on)                                                                                              \n",
      "                                                                                                  \n",
      " conv3_block1_1_conv (Conv2  (None, 28, 28, 128)          32896     ['conv2_block3_out[0][0]']    \n",
      " D)                                                                                               \n",
      "                                                                                                  \n",
      " conv3_block1_1_bn (BatchNo  (None, 28, 28, 128)          512       ['conv3_block1_1_conv[0][0]'] \n",
      " rmalization)                                                                                     \n",
      "                                                                                                  \n",
      " conv3_block1_1_relu (Activ  (None, 28, 28, 128)          0         ['conv3_block1_1_bn[0][0]']   \n",
      " ation)                                                                                           \n",
      "                                                                                                  \n",
      " conv3_block1_2_conv (Conv2  (None, 28, 28, 128)          147584    ['conv3_block1_1_relu[0][0]'] \n",
      " D)                                                                                               \n",
      "                                                                                                  \n",
      " conv3_block1_2_bn (BatchNo  (None, 28, 28, 128)          512       ['conv3_block1_2_conv[0][0]'] \n",
      " rmalization)                                                                                     \n",
      "                                                                                                  \n",
      " conv3_block1_2_relu (Activ  (None, 28, 28, 128)          0         ['conv3_block1_2_bn[0][0]']   \n",
      " ation)                                                                                           \n",
      "                                                                                                  \n",
      " conv3_block1_0_conv (Conv2  (None, 28, 28, 512)          131584    ['conv2_block3_out[0][0]']    \n",
      " D)                                                                                               \n",
      "                                                                                                  \n",
      " conv3_block1_3_conv (Conv2  (None, 28, 28, 512)          66048     ['conv3_block1_2_relu[0][0]'] \n",
      " D)                                                                                               \n",
      "                                                                                                  \n",
      " conv3_block1_0_bn (BatchNo  (None, 28, 28, 512)          2048      ['conv3_block1_0_conv[0][0]'] \n",
      " rmalization)                                                                                     \n",
      "                                                                                                  \n",
      " conv3_block1_3_bn (BatchNo  (None, 28, 28, 512)          2048      ['conv3_block1_3_conv[0][0]'] \n",
      " rmalization)                                                                                     \n",
      "                                                                                                  \n",
      " conv3_block1_add (Add)      (None, 28, 28, 512)          0         ['conv3_block1_0_bn[0][0]',   \n",
      "                                                                     'conv3_block1_3_bn[0][0]']   \n",
      "                                                                                                  \n",
      " conv3_block1_out (Activati  (None, 28, 28, 512)          0         ['conv3_block1_add[0][0]']    \n",
      " on)                                                                                              \n",
      "                                                                                                  \n",
      " conv3_block2_1_conv (Conv2  (None, 28, 28, 128)          65664     ['conv3_block1_out[0][0]']    \n",
      " D)                                                                                               \n",
      "                                                                                                  \n",
      " conv3_block2_1_bn (BatchNo  (None, 28, 28, 128)          512       ['conv3_block2_1_conv[0][0]'] \n",
      " rmalization)                                                                                     \n",
      "                                                                                                  \n",
      " conv3_block2_1_relu (Activ  (None, 28, 28, 128)          0         ['conv3_block2_1_bn[0][0]']   \n",
      " ation)                                                                                           \n",
      "                                                                                                  \n",
      " conv3_block2_2_conv (Conv2  (None, 28, 28, 128)          147584    ['conv3_block2_1_relu[0][0]'] \n",
      " D)                                                                                               \n",
      "                                                                                                  \n",
      " conv3_block2_2_bn (BatchNo  (None, 28, 28, 128)          512       ['conv3_block2_2_conv[0][0]'] \n",
      " rmalization)                                                                                     \n",
      "                                                                                                  \n",
      " conv3_block2_2_relu (Activ  (None, 28, 28, 128)          0         ['conv3_block2_2_bn[0][0]']   \n",
      " ation)                                                                                           \n",
      "                                                                                                  \n",
      " conv3_block2_3_conv (Conv2  (None, 28, 28, 512)          66048     ['conv3_block2_2_relu[0][0]'] \n",
      " D)                                                                                               \n",
      "                                                                                                  \n",
      " conv3_block2_3_bn (BatchNo  (None, 28, 28, 512)          2048      ['conv3_block2_3_conv[0][0]'] \n",
      " rmalization)                                                                                     \n",
      "                                                                                                  \n",
      " conv3_block2_add (Add)      (None, 28, 28, 512)          0         ['conv3_block1_out[0][0]',    \n",
      "                                                                     'conv3_block2_3_bn[0][0]']   \n",
      "                                                                                                  \n",
      " conv3_block2_out (Activati  (None, 28, 28, 512)          0         ['conv3_block2_add[0][0]']    \n",
      " on)                                                                                              \n",
      "                                                                                                  \n",
      " conv3_block3_1_conv (Conv2  (None, 28, 28, 128)          65664     ['conv3_block2_out[0][0]']    \n",
      " D)                                                                                               \n",
      "                                                                                                  \n",
      " conv3_block3_1_bn (BatchNo  (None, 28, 28, 128)          512       ['conv3_block3_1_conv[0][0]'] \n",
      " rmalization)                                                                                     \n",
      "                                                                                                  \n",
      " conv3_block3_1_relu (Activ  (None, 28, 28, 128)          0         ['conv3_block3_1_bn[0][0]']   \n",
      " ation)                                                                                           \n",
      "                                                                                                  \n",
      " conv3_block3_2_conv (Conv2  (None, 28, 28, 128)          147584    ['conv3_block3_1_relu[0][0]'] \n",
      " D)                                                                                               \n",
      "                                                                                                  \n",
      " conv3_block3_2_bn (BatchNo  (None, 28, 28, 128)          512       ['conv3_block3_2_conv[0][0]'] \n",
      " rmalization)                                                                                     \n",
      "                                                                                                  \n",
      " conv3_block3_2_relu (Activ  (None, 28, 28, 128)          0         ['conv3_block3_2_bn[0][0]']   \n",
      " ation)                                                                                           \n",
      "                                                                                                  \n",
      " conv3_block3_3_conv (Conv2  (None, 28, 28, 512)          66048     ['conv3_block3_2_relu[0][0]'] \n",
      " D)                                                                                               \n",
      "                                                                                                  \n",
      " conv3_block3_3_bn (BatchNo  (None, 28, 28, 512)          2048      ['conv3_block3_3_conv[0][0]'] \n",
      " rmalization)                                                                                     \n",
      "                                                                                                  \n",
      " conv3_block3_add (Add)      (None, 28, 28, 512)          0         ['conv3_block2_out[0][0]',    \n",
      "                                                                     'conv3_block3_3_bn[0][0]']   \n",
      "                                                                                                  \n",
      " conv3_block3_out (Activati  (None, 28, 28, 512)          0         ['conv3_block3_add[0][0]']    \n",
      " on)                                                                                              \n",
      "                                                                                                  \n",
      " conv3_block4_1_conv (Conv2  (None, 28, 28, 128)          65664     ['conv3_block3_out[0][0]']    \n",
      " D)                                                                                               \n",
      "                                                                                                  \n",
      " conv3_block4_1_bn (BatchNo  (None, 28, 28, 128)          512       ['conv3_block4_1_conv[0][0]'] \n",
      " rmalization)                                                                                     \n",
      "                                                                                                  \n",
      " conv3_block4_1_relu (Activ  (None, 28, 28, 128)          0         ['conv3_block4_1_bn[0][0]']   \n",
      " ation)                                                                                           \n",
      "                                                                                                  \n",
      " conv3_block4_2_conv (Conv2  (None, 28, 28, 128)          147584    ['conv3_block4_1_relu[0][0]'] \n",
      " D)                                                                                               \n",
      "                                                                                                  \n",
      " conv3_block4_2_bn (BatchNo  (None, 28, 28, 128)          512       ['conv3_block4_2_conv[0][0]'] \n",
      " rmalization)                                                                                     \n",
      "                                                                                                  \n",
      " conv3_block4_2_relu (Activ  (None, 28, 28, 128)          0         ['conv3_block4_2_bn[0][0]']   \n",
      " ation)                                                                                           \n",
      "                                                                                                  \n",
      " conv3_block4_3_conv (Conv2  (None, 28, 28, 512)          66048     ['conv3_block4_2_relu[0][0]'] \n",
      " D)                                                                                               \n",
      "                                                                                                  \n",
      " conv3_block4_3_bn (BatchNo  (None, 28, 28, 512)          2048      ['conv3_block4_3_conv[0][0]'] \n",
      " rmalization)                                                                                     \n",
      "                                                                                                  \n",
      " conv3_block4_add (Add)      (None, 28, 28, 512)          0         ['conv3_block3_out[0][0]',    \n",
      "                                                                     'conv3_block4_3_bn[0][0]']   \n",
      "                                                                                                  \n",
      " conv3_block4_out (Activati  (None, 28, 28, 512)          0         ['conv3_block4_add[0][0]']    \n",
      " on)                                                                                              \n",
      "                                                                                                  \n",
      " conv4_block1_1_conv (Conv2  (None, 14, 14, 256)          131328    ['conv3_block4_out[0][0]']    \n",
      " D)                                                                                               \n",
      "                                                                                                  \n",
      " conv4_block1_1_bn (BatchNo  (None, 14, 14, 256)          1024      ['conv4_block1_1_conv[0][0]'] \n",
      " rmalization)                                                                                     \n",
      "                                                                                                  \n",
      " conv4_block1_1_relu (Activ  (None, 14, 14, 256)          0         ['conv4_block1_1_bn[0][0]']   \n",
      " ation)                                                                                           \n",
      "                                                                                                  \n",
      " conv4_block1_2_conv (Conv2  (None, 14, 14, 256)          590080    ['conv4_block1_1_relu[0][0]'] \n",
      " D)                                                                                               \n",
      "                                                                                                  \n",
      " conv4_block1_2_bn (BatchNo  (None, 14, 14, 256)          1024      ['conv4_block1_2_conv[0][0]'] \n",
      " rmalization)                                                                                     \n",
      "                                                                                                  \n",
      " conv4_block1_2_relu (Activ  (None, 14, 14, 256)          0         ['conv4_block1_2_bn[0][0]']   \n",
      " ation)                                                                                           \n",
      "                                                                                                  \n",
      " conv4_block1_0_conv (Conv2  (None, 14, 14, 1024)         525312    ['conv3_block4_out[0][0]']    \n",
      " D)                                                                                               \n",
      "                                                                                                  \n",
      " conv4_block1_3_conv (Conv2  (None, 14, 14, 1024)         263168    ['conv4_block1_2_relu[0][0]'] \n",
      " D)                                                                                               \n",
      "                                                                                                  \n",
      " conv4_block1_0_bn (BatchNo  (None, 14, 14, 1024)         4096      ['conv4_block1_0_conv[0][0]'] \n",
      " rmalization)                                                                                     \n",
      "                                                                                                  \n",
      " conv4_block1_3_bn (BatchNo  (None, 14, 14, 1024)         4096      ['conv4_block1_3_conv[0][0]'] \n",
      " rmalization)                                                                                     \n",
      "                                                                                                  \n",
      " conv4_block1_add (Add)      (None, 14, 14, 1024)         0         ['conv4_block1_0_bn[0][0]',   \n",
      "                                                                     'conv4_block1_3_bn[0][0]']   \n",
      "                                                                                                  \n",
      " conv4_block1_out (Activati  (None, 14, 14, 1024)         0         ['conv4_block1_add[0][0]']    \n",
      " on)                                                                                              \n",
      "                                                                                                  \n",
      " conv4_block2_1_conv (Conv2  (None, 14, 14, 256)          262400    ['conv4_block1_out[0][0]']    \n",
      " D)                                                                                               \n",
      "                                                                                                  \n",
      " conv4_block2_1_bn (BatchNo  (None, 14, 14, 256)          1024      ['conv4_block2_1_conv[0][0]'] \n",
      " rmalization)                                                                                     \n",
      "                                                                                                  \n",
      " conv4_block2_1_relu (Activ  (None, 14, 14, 256)          0         ['conv4_block2_1_bn[0][0]']   \n",
      " ation)                                                                                           \n",
      "                                                                                                  \n",
      " conv4_block2_2_conv (Conv2  (None, 14, 14, 256)          590080    ['conv4_block2_1_relu[0][0]'] \n",
      " D)                                                                                               \n",
      "                                                                                                  \n",
      " conv4_block2_2_bn (BatchNo  (None, 14, 14, 256)          1024      ['conv4_block2_2_conv[0][0]'] \n",
      " rmalization)                                                                                     \n",
      "                                                                                                  \n",
      " conv4_block2_2_relu (Activ  (None, 14, 14, 256)          0         ['conv4_block2_2_bn[0][0]']   \n",
      " ation)                                                                                           \n",
      "                                                                                                  \n",
      " conv4_block2_3_conv (Conv2  (None, 14, 14, 1024)         263168    ['conv4_block2_2_relu[0][0]'] \n",
      " D)                                                                                               \n",
      "                                                                                                  \n",
      " conv4_block2_3_bn (BatchNo  (None, 14, 14, 1024)         4096      ['conv4_block2_3_conv[0][0]'] \n",
      " rmalization)                                                                                     \n",
      "                                                                                                  \n",
      " conv4_block2_add (Add)      (None, 14, 14, 1024)         0         ['conv4_block1_out[0][0]',    \n",
      "                                                                     'conv4_block2_3_bn[0][0]']   \n",
      "                                                                                                  \n",
      " conv4_block2_out (Activati  (None, 14, 14, 1024)         0         ['conv4_block2_add[0][0]']    \n",
      " on)                                                                                              \n",
      "                                                                                                  \n",
      " conv4_block3_1_conv (Conv2  (None, 14, 14, 256)          262400    ['conv4_block2_out[0][0]']    \n",
      " D)                                                                                               \n",
      "                                                                                                  \n",
      " conv4_block3_1_bn (BatchNo  (None, 14, 14, 256)          1024      ['conv4_block3_1_conv[0][0]'] \n",
      " rmalization)                                                                                     \n",
      "                                                                                                  \n",
      " conv4_block3_1_relu (Activ  (None, 14, 14, 256)          0         ['conv4_block3_1_bn[0][0]']   \n",
      " ation)                                                                                           \n",
      "                                                                                                  \n",
      " conv4_block3_2_conv (Conv2  (None, 14, 14, 256)          590080    ['conv4_block3_1_relu[0][0]'] \n",
      " D)                                                                                               \n",
      "                                                                                                  \n",
      " conv4_block3_2_bn (BatchNo  (None, 14, 14, 256)          1024      ['conv4_block3_2_conv[0][0]'] \n",
      " rmalization)                                                                                     \n",
      "                                                                                                  \n",
      " conv4_block3_2_relu (Activ  (None, 14, 14, 256)          0         ['conv4_block3_2_bn[0][0]']   \n",
      " ation)                                                                                           \n",
      "                                                                                                  \n",
      " conv4_block3_3_conv (Conv2  (None, 14, 14, 1024)         263168    ['conv4_block3_2_relu[0][0]'] \n",
      " D)                                                                                               \n",
      "                                                                                                  \n",
      " conv4_block3_3_bn (BatchNo  (None, 14, 14, 1024)         4096      ['conv4_block3_3_conv[0][0]'] \n",
      " rmalization)                                                                                     \n",
      "                                                                                                  \n",
      " conv4_block3_add (Add)      (None, 14, 14, 1024)         0         ['conv4_block2_out[0][0]',    \n",
      "                                                                     'conv4_block3_3_bn[0][0]']   \n",
      "                                                                                                  \n",
      " conv4_block3_out (Activati  (None, 14, 14, 1024)         0         ['conv4_block3_add[0][0]']    \n",
      " on)                                                                                              \n",
      "                                                                                                  \n",
      " conv4_block4_1_conv (Conv2  (None, 14, 14, 256)          262400    ['conv4_block3_out[0][0]']    \n",
      " D)                                                                                               \n",
      "                                                                                                  \n",
      " conv4_block4_1_bn (BatchNo  (None, 14, 14, 256)          1024      ['conv4_block4_1_conv[0][0]'] \n",
      " rmalization)                                                                                     \n",
      "                                                                                                  \n",
      " conv4_block4_1_relu (Activ  (None, 14, 14, 256)          0         ['conv4_block4_1_bn[0][0]']   \n",
      " ation)                                                                                           \n",
      "                                                                                                  \n",
      " conv4_block4_2_conv (Conv2  (None, 14, 14, 256)          590080    ['conv4_block4_1_relu[0][0]'] \n",
      " D)                                                                                               \n",
      "                                                                                                  \n",
      " conv4_block4_2_bn (BatchNo  (None, 14, 14, 256)          1024      ['conv4_block4_2_conv[0][0]'] \n",
      " rmalization)                                                                                     \n",
      "                                                                                                  \n",
      " conv4_block4_2_relu (Activ  (None, 14, 14, 256)          0         ['conv4_block4_2_bn[0][0]']   \n",
      " ation)                                                                                           \n",
      "                                                                                                  \n",
      " conv4_block4_3_conv (Conv2  (None, 14, 14, 1024)         263168    ['conv4_block4_2_relu[0][0]'] \n",
      " D)                                                                                               \n",
      "                                                                                                  \n",
      " conv4_block4_3_bn (BatchNo  (None, 14, 14, 1024)         4096      ['conv4_block4_3_conv[0][0]'] \n",
      " rmalization)                                                                                     \n",
      "                                                                                                  \n",
      " conv4_block4_add (Add)      (None, 14, 14, 1024)         0         ['conv4_block3_out[0][0]',    \n",
      "                                                                     'conv4_block4_3_bn[0][0]']   \n",
      "                                                                                                  \n",
      " conv4_block4_out (Activati  (None, 14, 14, 1024)         0         ['conv4_block4_add[0][0]']    \n",
      " on)                                                                                              \n",
      "                                                                                                  \n",
      " conv4_block5_1_conv (Conv2  (None, 14, 14, 256)          262400    ['conv4_block4_out[0][0]']    \n",
      " D)                                                                                               \n",
      "                                                                                                  \n",
      " conv4_block5_1_bn (BatchNo  (None, 14, 14, 256)          1024      ['conv4_block5_1_conv[0][0]'] \n",
      " rmalization)                                                                                     \n",
      "                                                                                                  \n",
      " conv4_block5_1_relu (Activ  (None, 14, 14, 256)          0         ['conv4_block5_1_bn[0][0]']   \n",
      " ation)                                                                                           \n",
      "                                                                                                  \n",
      " conv4_block5_2_conv (Conv2  (None, 14, 14, 256)          590080    ['conv4_block5_1_relu[0][0]'] \n",
      " D)                                                                                               \n",
      "                                                                                                  \n",
      " conv4_block5_2_bn (BatchNo  (None, 14, 14, 256)          1024      ['conv4_block5_2_conv[0][0]'] \n",
      " rmalization)                                                                                     \n",
      "                                                                                                  \n",
      " conv4_block5_2_relu (Activ  (None, 14, 14, 256)          0         ['conv4_block5_2_bn[0][0]']   \n",
      " ation)                                                                                           \n",
      "                                                                                                  \n",
      " conv4_block5_3_conv (Conv2  (None, 14, 14, 1024)         263168    ['conv4_block5_2_relu[0][0]'] \n",
      " D)                                                                                               \n",
      "                                                                                                  \n",
      " conv4_block5_3_bn (BatchNo  (None, 14, 14, 1024)         4096      ['conv4_block5_3_conv[0][0]'] \n",
      " rmalization)                                                                                     \n",
      "                                                                                                  \n",
      " conv4_block5_add (Add)      (None, 14, 14, 1024)         0         ['conv4_block4_out[0][0]',    \n",
      "                                                                     'conv4_block5_3_bn[0][0]']   \n",
      "                                                                                                  \n",
      " conv4_block5_out (Activati  (None, 14, 14, 1024)         0         ['conv4_block5_add[0][0]']    \n",
      " on)                                                                                              \n",
      "                                                                                                  \n",
      " conv4_block6_1_conv (Conv2  (None, 14, 14, 256)          262400    ['conv4_block5_out[0][0]']    \n",
      " D)                                                                                               \n",
      "                                                                                                  \n",
      " conv4_block6_1_bn (BatchNo  (None, 14, 14, 256)          1024      ['conv4_block6_1_conv[0][0]'] \n",
      " rmalization)                                                                                     \n",
      "                                                                                                  \n",
      " conv4_block6_1_relu (Activ  (None, 14, 14, 256)          0         ['conv4_block6_1_bn[0][0]']   \n",
      " ation)                                                                                           \n",
      "                                                                                                  \n",
      " conv4_block6_2_conv (Conv2  (None, 14, 14, 256)          590080    ['conv4_block6_1_relu[0][0]'] \n",
      " D)                                                                                               \n",
      "                                                                                                  \n",
      " conv4_block6_2_bn (BatchNo  (None, 14, 14, 256)          1024      ['conv4_block6_2_conv[0][0]'] \n",
      " rmalization)                                                                                     \n",
      "                                                                                                  \n",
      " conv4_block6_2_relu (Activ  (None, 14, 14, 256)          0         ['conv4_block6_2_bn[0][0]']   \n",
      " ation)                                                                                           \n",
      "                                                                                                  \n",
      " conv4_block6_3_conv (Conv2  (None, 14, 14, 1024)         263168    ['conv4_block6_2_relu[0][0]'] \n",
      " D)                                                                                               \n",
      "                                                                                                  \n",
      " conv4_block6_3_bn (BatchNo  (None, 14, 14, 1024)         4096      ['conv4_block6_3_conv[0][0]'] \n",
      " rmalization)                                                                                     \n",
      "                                                                                                  \n",
      " conv4_block6_add (Add)      (None, 14, 14, 1024)         0         ['conv4_block5_out[0][0]',    \n",
      "                                                                     'conv4_block6_3_bn[0][0]']   \n",
      "                                                                                                  \n",
      " conv4_block6_out (Activati  (None, 14, 14, 1024)         0         ['conv4_block6_add[0][0]']    \n",
      " on)                                                                                              \n",
      "                                                                                                  \n",
      " conv5_block1_1_conv (Conv2  (None, 7, 7, 512)            524800    ['conv4_block6_out[0][0]']    \n",
      " D)                                                                                               \n",
      "                                                                                                  \n",
      " conv5_block1_1_bn (BatchNo  (None, 7, 7, 512)            2048      ['conv5_block1_1_conv[0][0]'] \n",
      " rmalization)                                                                                     \n",
      "                                                                                                  \n",
      " conv5_block1_1_relu (Activ  (None, 7, 7, 512)            0         ['conv5_block1_1_bn[0][0]']   \n",
      " ation)                                                                                           \n",
      "                                                                                                  \n",
      " conv5_block1_2_conv (Conv2  (None, 7, 7, 512)            2359808   ['conv5_block1_1_relu[0][0]'] \n",
      " D)                                                                                               \n",
      "                                                                                                  \n",
      " conv5_block1_2_bn (BatchNo  (None, 7, 7, 512)            2048      ['conv5_block1_2_conv[0][0]'] \n",
      " rmalization)                                                                                     \n",
      "                                                                                                  \n",
      " conv5_block1_2_relu (Activ  (None, 7, 7, 512)            0         ['conv5_block1_2_bn[0][0]']   \n",
      " ation)                                                                                           \n",
      "                                                                                                  \n",
      " conv5_block1_0_conv (Conv2  (None, 7, 7, 2048)           2099200   ['conv4_block6_out[0][0]']    \n",
      " D)                                                                                               \n",
      "                                                                                                  \n",
      " conv5_block1_3_conv (Conv2  (None, 7, 7, 2048)           1050624   ['conv5_block1_2_relu[0][0]'] \n",
      " D)                                                                                               \n",
      "                                                                                                  \n",
      " conv5_block1_0_bn (BatchNo  (None, 7, 7, 2048)           8192      ['conv5_block1_0_conv[0][0]'] \n",
      " rmalization)                                                                                     \n",
      "                                                                                                  \n",
      " conv5_block1_3_bn (BatchNo  (None, 7, 7, 2048)           8192      ['conv5_block1_3_conv[0][0]'] \n",
      " rmalization)                                                                                     \n",
      "                                                                                                  \n",
      " conv5_block1_add (Add)      (None, 7, 7, 2048)           0         ['conv5_block1_0_bn[0][0]',   \n",
      "                                                                     'conv5_block1_3_bn[0][0]']   \n",
      "                                                                                                  \n",
      " conv5_block1_out (Activati  (None, 7, 7, 2048)           0         ['conv5_block1_add[0][0]']    \n",
      " on)                                                                                              \n",
      "                                                                                                  \n",
      " conv5_block2_1_conv (Conv2  (None, 7, 7, 512)            1049088   ['conv5_block1_out[0][0]']    \n",
      " D)                                                                                               \n",
      "                                                                                                  \n",
      " conv5_block2_1_bn (BatchNo  (None, 7, 7, 512)            2048      ['conv5_block2_1_conv[0][0]'] \n",
      " rmalization)                                                                                     \n",
      "                                                                                                  \n",
      " conv5_block2_1_relu (Activ  (None, 7, 7, 512)            0         ['conv5_block2_1_bn[0][0]']   \n",
      " ation)                                                                                           \n",
      "                                                                                                  \n",
      " conv5_block2_2_conv (Conv2  (None, 7, 7, 512)            2359808   ['conv5_block2_1_relu[0][0]'] \n",
      " D)                                                                                               \n",
      "                                                                                                  \n",
      " conv5_block2_2_bn (BatchNo  (None, 7, 7, 512)            2048      ['conv5_block2_2_conv[0][0]'] \n",
      " rmalization)                                                                                     \n",
      "                                                                                                  \n",
      " conv5_block2_2_relu (Activ  (None, 7, 7, 512)            0         ['conv5_block2_2_bn[0][0]']   \n",
      " ation)                                                                                           \n",
      "                                                                                                  \n",
      " conv5_block2_3_conv (Conv2  (None, 7, 7, 2048)           1050624   ['conv5_block2_2_relu[0][0]'] \n",
      " D)                                                                                               \n",
      "                                                                                                  \n",
      " conv5_block2_3_bn (BatchNo  (None, 7, 7, 2048)           8192      ['conv5_block2_3_conv[0][0]'] \n",
      " rmalization)                                                                                     \n",
      "                                                                                                  \n",
      " conv5_block2_add (Add)      (None, 7, 7, 2048)           0         ['conv5_block1_out[0][0]',    \n",
      "                                                                     'conv5_block2_3_bn[0][0]']   \n",
      "                                                                                                  \n",
      " conv5_block2_out (Activati  (None, 7, 7, 2048)           0         ['conv5_block2_add[0][0]']    \n",
      " on)                                                                                              \n",
      "                                                                                                  \n",
      " conv5_block3_1_conv (Conv2  (None, 7, 7, 512)            1049088   ['conv5_block2_out[0][0]']    \n",
      " D)                                                                                               \n",
      "                                                                                                  \n",
      " conv5_block3_1_bn (BatchNo  (None, 7, 7, 512)            2048      ['conv5_block3_1_conv[0][0]'] \n",
      " rmalization)                                                                                     \n",
      "                                                                                                  \n",
      " conv5_block3_1_relu (Activ  (None, 7, 7, 512)            0         ['conv5_block3_1_bn[0][0]']   \n",
      " ation)                                                                                           \n",
      "                                                                                                  \n",
      " conv5_block3_2_conv (Conv2  (None, 7, 7, 512)            2359808   ['conv5_block3_1_relu[0][0]'] \n",
      " D)                                                                                               \n",
      "                                                                                                  \n",
      " conv5_block3_2_bn (BatchNo  (None, 7, 7, 512)            2048      ['conv5_block3_2_conv[0][0]'] \n",
      " rmalization)                                                                                     \n",
      "                                                                                                  \n",
      " conv5_block3_2_relu (Activ  (None, 7, 7, 512)            0         ['conv5_block3_2_bn[0][0]']   \n",
      " ation)                                                                                           \n",
      "                                                                                                  \n",
      " conv5_block3_3_conv (Conv2  (None, 7, 7, 2048)           1050624   ['conv5_block3_2_relu[0][0]'] \n",
      " D)                                                                                               \n",
      "                                                                                                  \n",
      " conv5_block3_3_bn (BatchNo  (None, 7, 7, 2048)           8192      ['conv5_block3_3_conv[0][0]'] \n",
      " rmalization)                                                                                     \n",
      "                                                                                                  \n",
      " conv5_block3_add (Add)      (None, 7, 7, 2048)           0         ['conv5_block2_out[0][0]',    \n",
      "                                                                     'conv5_block3_3_bn[0][0]']   \n",
      "                                                                                                  \n",
      " conv5_block3_out (Activati  (None, 7, 7, 2048)           0         ['conv5_block3_add[0][0]']    \n",
      " on)                                                                                              \n",
      "                                                                                                  \n",
      "==================================================================================================\n",
      "Total params: 23587712 (89.98 MB)\n",
      "Trainable params: 23534592 (89.78 MB)\n",
      "Non-trainable params: 53120 (207.50 KB)\n",
      "__________________________________________________________________________________________________\n"
     ]
    }
   ],
   "source": [
    "residuals.summary()"
   ]
  },
  {
   "cell_type": "code",
   "execution_count": 39,
   "metadata": {},
   "outputs": [
    {
     "name": "stderr",
     "output_type": "stream",
     "text": [
      "c:\\Users\\bluep\\AppData\\Local\\Programs\\Python\\Python311\\Lib\\site-packages\\keras\\src\\engine\\training.py:3079: UserWarning: You are saving your model as an HDF5 file via `model.save()`. This file format is considered legacy. We recommend using instead the native Keras format, e.g. `model.save('my_model.keras')`.\n",
      "  saving_api.save_model(\n"
     ]
    }
   ],
   "source": [
    "# save model\n",
    "face_recog_model.save('face_recog_model.h5')"
   ]
  },
  {
   "cell_type": "code",
   "execution_count": 40,
   "metadata": {},
   "outputs": [
    {
     "data": {
      "text/plain": [
       "32"
      ]
     },
     "execution_count": 40,
     "metadata": {},
     "output_type": "execute_result"
    }
   ],
   "source": [
    "test_set.batch_size"
   ]
  },
  {
   "cell_type": "code",
   "execution_count": 41,
   "metadata": {},
   "outputs": [
    {
     "data": {
      "text/plain": [
       "0"
      ]
     },
     "execution_count": 41,
     "metadata": {},
     "output_type": "execute_result"
    }
   ],
   "source": [
    "test_set.batch_index"
   ]
  },
  {
   "cell_type": "code",
   "execution_count": 42,
   "metadata": {},
   "outputs": [
    {
     "data": {
      "text/plain": [
       "['class-0\\\\34.jpg',\n",
       " 'class-0\\\\43.jpg',\n",
       " 'class-0\\\\46.jpg',\n",
       " 'class-0\\\\47.jpg',\n",
       " 'class-0\\\\48.jpg',\n",
       " 'class-0\\\\49.jpg',\n",
       " 'class-0\\\\51.jpg',\n",
       " 'class-0\\\\aug_0_281.jpg',\n",
       " 'class-0\\\\aug_0_5837.jpg',\n",
       " 'class-0\\\\aug_0_9538.jpg',\n",
       " 'class-1\\\\10.jpg',\n",
       " 'class-1\\\\20.jpg',\n",
       " 'class-1\\\\9.jpg',\n",
       " 'class-1\\\\aug_0_105.jpg',\n",
       " 'class-1\\\\aug_0_3073.jpg',\n",
       " 'class-1\\\\aug_0_313.jpg',\n",
       " 'class-1\\\\aug_0_3521.jpg',\n",
       " 'class-1\\\\aug_0_3834.jpg',\n",
       " 'class-1\\\\aug_0_3883.jpg',\n",
       " 'class-1\\\\aug_0_9843.jpg',\n",
       " 'class-2\\\\15.jpg',\n",
       " 'class-2\\\\18.jpg',\n",
       " 'class-2\\\\20.jpg',\n",
       " 'class-2\\\\22.jpg',\n",
       " 'class-2\\\\27.jpg',\n",
       " 'class-2\\\\28.jpg',\n",
       " 'class-2\\\\32.jpg',\n",
       " 'class-2\\\\34.jpg',\n",
       " 'class-2\\\\6.jpg',\n",
       " 'class-2\\\\8.jpg',\n",
       " 'class-3\\\\10.jpg',\n",
       " 'class-3\\\\16.jpg',\n",
       " 'class-3\\\\17.jpg',\n",
       " 'class-3\\\\19.jpg',\n",
       " 'class-3\\\\21.jpg',\n",
       " 'class-3\\\\6.jpg',\n",
       " 'class-3\\\\aug_0_1164.jpg',\n",
       " 'class-3\\\\aug_0_6974.jpg',\n",
       " 'class-3\\\\aug_0_9113.jpg',\n",
       " 'class-3\\\\aug_0_9664.jpg']"
      ]
     },
     "execution_count": 42,
     "metadata": {},
     "output_type": "execute_result"
    }
   ],
   "source": [
    "test_set.filenames"
   ]
  },
  {
   "cell_type": "code",
   "execution_count": 43,
   "metadata": {},
   "outputs": [],
   "source": [
    "x_test, y_test = test_set.next()"
   ]
  },
  {
   "cell_type": "code",
   "execution_count": 44,
   "metadata": {},
   "outputs": [
    {
     "data": {
      "text/plain": [
       "array([[[[0.5294118 , 0.45882356, 0.45098042],\n",
       "         [0.5294118 , 0.45882356, 0.45098042],\n",
       "         [0.5294118 , 0.45882356, 0.4431373 ],\n",
       "         ...,\n",
       "         [0.5882353 , 0.5137255 , 0.45882356],\n",
       "         [0.58431375, 0.50980395, 0.45098042],\n",
       "         [0.5803922 , 0.5058824 , 0.44705886]],\n",
       "\n",
       "        [[0.5294118 , 0.45882356, 0.45098042],\n",
       "         [0.52156866, 0.46274513, 0.4431373 ],\n",
       "         [0.5294118 , 0.45882356, 0.4431373 ],\n",
       "         ...,\n",
       "         [0.58431375, 0.50980395, 0.45098042],\n",
       "         [0.59607846, 0.52156866, 0.46274513],\n",
       "         [0.6       , 0.5254902 , 0.4666667 ]],\n",
       "\n",
       "        [[0.5254902 , 0.4666667 , 0.44705886],\n",
       "         [0.52156866, 0.47058827, 0.44705886],\n",
       "         [0.52156866, 0.46274513, 0.4431373 ],\n",
       "         ...,\n",
       "         [0.5647059 , 0.4901961 , 0.43137258],\n",
       "         [0.5764706 , 0.5019608 , 0.4431373 ],\n",
       "         [0.5882353 , 0.5137255 , 0.44705886]],\n",
       "\n",
       "        ...,\n",
       "\n",
       "        [[0.1764706 , 0.10196079, 0.07450981],\n",
       "         [0.16862746, 0.10196079, 0.07058824],\n",
       "         [0.16862746, 0.10196079, 0.07450981],\n",
       "         ...,\n",
       "         [0.39607847, 0.3254902 , 0.27058825],\n",
       "         [0.39607847, 0.32941177, 0.26666668],\n",
       "         [0.40000004, 0.33333334, 0.27058825]],\n",
       "\n",
       "        [[0.18431373, 0.10588236, 0.07843138],\n",
       "         [0.1764706 , 0.10196079, 0.07450981],\n",
       "         [0.1764706 , 0.10196079, 0.07843138],\n",
       "         ...,\n",
       "         [0.3921569 , 0.31764707, 0.2627451 ],\n",
       "         [0.3921569 , 0.31764707, 0.25882354],\n",
       "         [0.39607847, 0.32156864, 0.2627451 ]],\n",
       "\n",
       "        [[0.18431373, 0.10588236, 0.07843138],\n",
       "         [0.18431373, 0.10588236, 0.07843138],\n",
       "         [0.18039216, 0.10588236, 0.08235294],\n",
       "         ...,\n",
       "         [0.38823533, 0.3137255 , 0.25882354],\n",
       "         [0.38431376, 0.30980393, 0.2509804 ],\n",
       "         [0.38431376, 0.30980393, 0.2509804 ]]],\n",
       "\n",
       "\n",
       "       [[[0.68235296, 0.6117647 , 0.5176471 ],\n",
       "         [0.4784314 , 0.41176474, 0.33333334],\n",
       "         [0.33333334, 0.27058825, 0.21176472],\n",
       "         ...,\n",
       "         [0.14901961, 0.18039216, 0.18823531],\n",
       "         [0.15294118, 0.18431373, 0.19215688],\n",
       "         [0.14901961, 0.18039216, 0.18823531]],\n",
       "\n",
       "        [[0.5882353 , 0.5254902 , 0.43529415],\n",
       "         [0.43137258, 0.37254903, 0.2901961 ],\n",
       "         [0.30588236, 0.2509804 , 0.20000002],\n",
       "         ...,\n",
       "         [0.15294118, 0.18431373, 0.19215688],\n",
       "         [0.16470589, 0.18431373, 0.19607845],\n",
       "         [0.15294118, 0.18431373, 0.19215688]],\n",
       "\n",
       "        [[0.45882356, 0.40000004, 0.31764707],\n",
       "         [0.36862746, 0.31764707, 0.2509804 ],\n",
       "         [0.2901961 , 0.24313727, 0.19607845],\n",
       "         ...,\n",
       "         [0.15294118, 0.17254902, 0.18431373],\n",
       "         [0.16078432, 0.1764706 , 0.18823531],\n",
       "         [0.15686275, 0.1764706 , 0.18823531]],\n",
       "\n",
       "        ...,\n",
       "\n",
       "        [[0.12156864, 0.08627451, 0.0509804 ],\n",
       "         [0.12156864, 0.08627451, 0.0509804 ],\n",
       "         [0.12941177, 0.09019608, 0.05490196],\n",
       "         ...,\n",
       "         [0.11764707, 0.09411766, 0.10980393],\n",
       "         [0.09803922, 0.07843138, 0.10588236],\n",
       "         [0.09411766, 0.07450981, 0.10196079]],\n",
       "\n",
       "        [[0.12156864, 0.09019608, 0.04705883],\n",
       "         [0.1254902 , 0.09411766, 0.0509804 ],\n",
       "         [0.12941177, 0.09019608, 0.0509804 ],\n",
       "         ...,\n",
       "         [0.14901961, 0.1254902 , 0.14117648],\n",
       "         [0.12156864, 0.10196079, 0.12941177],\n",
       "         [0.10196079, 0.09019608, 0.11764707]],\n",
       "\n",
       "        [[0.12941177, 0.09803922, 0.05490196],\n",
       "         [0.1254902 , 0.09411766, 0.0509804 ],\n",
       "         [0.12941177, 0.09019608, 0.0509804 ],\n",
       "         ...,\n",
       "         [0.18039216, 0.16078432, 0.1764706 ],\n",
       "         [0.16078432, 0.14117648, 0.16862746],\n",
       "         [0.13725491, 0.1254902 , 0.15294118]]],\n",
       "\n",
       "\n",
       "       [[[0.09019608, 0.1137255 , 0.1137255 ],\n",
       "         [0.09019608, 0.1137255 , 0.1137255 ],\n",
       "         [0.09019608, 0.1137255 , 0.1137255 ],\n",
       "         ...,\n",
       "         [0.13333334, 0.10980393, 0.10980393],\n",
       "         [0.13725491, 0.1137255 , 0.12156864],\n",
       "         [0.16078432, 0.13725491, 0.14509805]],\n",
       "\n",
       "        [[0.09411766, 0.11764707, 0.11764707],\n",
       "         [0.09411766, 0.11764707, 0.11764707],\n",
       "         [0.09411766, 0.11764707, 0.11764707],\n",
       "         ...,\n",
       "         [0.1254902 , 0.10196079, 0.10196079],\n",
       "         [0.13333334, 0.10980393, 0.11764707],\n",
       "         [0.15686275, 0.13333334, 0.14117648]],\n",
       "\n",
       "        [[0.10196079, 0.11764707, 0.12156864],\n",
       "         [0.10196079, 0.11764707, 0.12156864],\n",
       "         [0.10196079, 0.11764707, 0.12156864],\n",
       "         ...,\n",
       "         [0.1254902 , 0.10196079, 0.10196079],\n",
       "         [0.12941177, 0.10588236, 0.1137255 ],\n",
       "         [0.15686275, 0.13333334, 0.14117648]],\n",
       "\n",
       "        ...,\n",
       "\n",
       "        [[0.7843138 , 0.7019608 , 0.61960787],\n",
       "         [0.7686275 , 0.6862745 , 0.6039216 ],\n",
       "         [0.75294125, 0.67058825, 0.59607846],\n",
       "         ...,\n",
       "         [0.07450981, 0.0627451 , 0.10588236],\n",
       "         [0.07450981, 0.0627451 , 0.10588236],\n",
       "         [0.07450981, 0.0627451 , 0.10588236]],\n",
       "\n",
       "        [[0.7803922 , 0.69803923, 0.6156863 ],\n",
       "         [0.76470596, 0.68235296, 0.6       ],\n",
       "         [0.7490196 , 0.6666667 , 0.5921569 ],\n",
       "         ...,\n",
       "         [0.07843138, 0.05490196, 0.10196079],\n",
       "         [0.07843138, 0.05490196, 0.10196079],\n",
       "         [0.07843138, 0.05490196, 0.10196079]],\n",
       "\n",
       "        [[0.7803922 , 0.69803923, 0.6156863 ],\n",
       "         [0.76470596, 0.68235296, 0.6       ],\n",
       "         [0.7490196 , 0.6666667 , 0.5921569 ],\n",
       "         ...,\n",
       "         [0.0627451 , 0.03921569, 0.08627451],\n",
       "         [0.06666667, 0.04313726, 0.09019608],\n",
       "         [0.06666667, 0.04313726, 0.09019608]]],\n",
       "\n",
       "\n",
       "       ...,\n",
       "\n",
       "\n",
       "       [[[0.86274517, 0.882353  , 0.854902  ],\n",
       "         [0.86666673, 0.8862746 , 0.8588236 ],\n",
       "         [0.882353  , 0.90196085, 0.87843144],\n",
       "         ...,\n",
       "         [0.1764706 , 0.14901961, 0.1254902 ],\n",
       "         [0.17254902, 0.14509805, 0.12156864],\n",
       "         [0.17254902, 0.14509805, 0.12156864]],\n",
       "\n",
       "        [[0.86666673, 0.87843144, 0.85098046],\n",
       "         [0.86666673, 0.87843144, 0.85098046],\n",
       "         [0.87843144, 0.89019614, 0.86274517],\n",
       "         ...,\n",
       "         [0.18431373, 0.15686275, 0.13333334],\n",
       "         [0.18039216, 0.15294118, 0.12941177],\n",
       "         [0.18039216, 0.15294118, 0.12941177]],\n",
       "\n",
       "        [[0.8196079 , 0.8078432 , 0.7803922 ],\n",
       "         [0.81568635, 0.80392164, 0.77647066],\n",
       "         [0.8235295 , 0.8117648 , 0.7843138 ],\n",
       "         ...,\n",
       "         [0.19607845, 0.16862746, 0.14509805],\n",
       "         [0.19215688, 0.16470589, 0.14117648],\n",
       "         [0.19215688, 0.16470589, 0.14117648]],\n",
       "\n",
       "        ...,\n",
       "\n",
       "        [[0.3372549 , 0.28627452, 0.22352943],\n",
       "         [0.33333334, 0.28235295, 0.21960786],\n",
       "         [0.3019608 , 0.2509804 , 0.18431373],\n",
       "         ...,\n",
       "         [0.19607845, 0.16078432, 0.13333334],\n",
       "         [0.19607845, 0.16078432, 0.13333334],\n",
       "         [0.19607845, 0.16862746, 0.13725491]],\n",
       "\n",
       "        [[0.32941177, 0.2784314 , 0.21568629],\n",
       "         [0.32941177, 0.2784314 , 0.21568629],\n",
       "         [0.29803923, 0.24705884, 0.18431373],\n",
       "         ...,\n",
       "         [0.19607845, 0.16078432, 0.13333334],\n",
       "         [0.19607845, 0.16078432, 0.13333334],\n",
       "         [0.19607845, 0.16078432, 0.13333334]],\n",
       "\n",
       "        [[0.32941177, 0.2784314 , 0.21568629],\n",
       "         [0.32941177, 0.2784314 , 0.21568629],\n",
       "         [0.3019608 , 0.2509804 , 0.18823531],\n",
       "         ...,\n",
       "         [0.20000002, 0.15686275, 0.13333334],\n",
       "         [0.19607845, 0.16078432, 0.13333334],\n",
       "         [0.19607845, 0.16078432, 0.13333334]]],\n",
       "\n",
       "\n",
       "       [[[0.12941177, 0.08627451, 0.10196079],\n",
       "         [0.12941177, 0.08627451, 0.10196079],\n",
       "         [0.13725491, 0.09411766, 0.10980393],\n",
       "         ...,\n",
       "         [0.18039216, 0.14509805, 0.11764707],\n",
       "         [0.16078432, 0.1254902 , 0.09019608],\n",
       "         [0.15686275, 0.12156864, 0.08627451]],\n",
       "\n",
       "        [[0.14117648, 0.09803922, 0.1137255 ],\n",
       "         [0.14117648, 0.09803922, 0.1137255 ],\n",
       "         [0.14509805, 0.10196079, 0.11764707],\n",
       "         ...,\n",
       "         [0.18431373, 0.14901961, 0.12156864],\n",
       "         [0.16862746, 0.13333334, 0.09803922],\n",
       "         [0.16470589, 0.12941177, 0.09411766]],\n",
       "\n",
       "        [[0.15294118, 0.10980393, 0.1254902 ],\n",
       "         [0.15294118, 0.10980393, 0.1254902 ],\n",
       "         [0.15294118, 0.10980393, 0.1254902 ],\n",
       "         ...,\n",
       "         [0.19607845, 0.16862746, 0.13725491],\n",
       "         [0.1764706 , 0.14901961, 0.10980393],\n",
       "         [0.17254902, 0.14509805, 0.10588236]],\n",
       "\n",
       "        ...,\n",
       "\n",
       "        [[0.07058824, 0.04705883, 0.09411766],\n",
       "         [0.06666667, 0.04313726, 0.09019608],\n",
       "         [0.0627451 , 0.03921569, 0.07843138],\n",
       "         ...,\n",
       "         [0.37254903, 0.31764707, 0.28235295],\n",
       "         [0.37647063, 0.31764707, 0.2901961 ],\n",
       "         [0.37647063, 0.31764707, 0.2901961 ]],\n",
       "\n",
       "        [[0.06666667, 0.04313726, 0.09019608],\n",
       "         [0.0627451 , 0.03921569, 0.08627451],\n",
       "         [0.05490196, 0.03137255, 0.07843138],\n",
       "         ...,\n",
       "         [0.37254903, 0.3137255 , 0.28627452],\n",
       "         [0.37647063, 0.31764707, 0.29803923],\n",
       "         [0.37647063, 0.31764707, 0.29803923]],\n",
       "\n",
       "        [[0.07058824, 0.04705883, 0.09411766],\n",
       "         [0.0627451 , 0.03921569, 0.08627451],\n",
       "         [0.0509804 , 0.02745098, 0.07450981],\n",
       "         ...,\n",
       "         [0.37254903, 0.3137255 , 0.28627452],\n",
       "         [0.37647063, 0.31764707, 0.29803923],\n",
       "         [0.37647063, 0.31764707, 0.29803923]]],\n",
       "\n",
       "\n",
       "       [[[0.76470596, 0.627451  , 0.5529412 ],\n",
       "         [0.7686275 , 0.6313726 , 0.5568628 ],\n",
       "         [0.7725491 , 0.63529414, 0.56078434],\n",
       "         ...,\n",
       "         [0.5294118 , 0.4039216 , 0.30588236],\n",
       "         [0.5294118 , 0.40784317, 0.29803923],\n",
       "         [0.5294118 , 0.40784317, 0.29803923]],\n",
       "\n",
       "        [[0.7607844 , 0.62352943, 0.54901963],\n",
       "         [0.76470596, 0.627451  , 0.5529412 ],\n",
       "         [0.7725491 , 0.63529414, 0.56078434],\n",
       "         ...,\n",
       "         [0.5294118 , 0.4039216 , 0.30588236],\n",
       "         [0.53333336, 0.41176474, 0.3019608 ],\n",
       "         [0.53333336, 0.41176474, 0.3019608 ]],\n",
       "\n",
       "        [[0.7607844 , 0.62352943, 0.54901963],\n",
       "         [0.76470596, 0.627451  , 0.5529412 ],\n",
       "         [0.7725491 , 0.63529414, 0.56078434],\n",
       "         ...,\n",
       "         [0.53333336, 0.41176474, 0.3019608 ],\n",
       "         [0.5372549 , 0.4156863 , 0.30588236],\n",
       "         [0.5372549 , 0.4156863 , 0.30588236]],\n",
       "\n",
       "        ...,\n",
       "\n",
       "        [[0.12941177, 0.06666667, 0.01568628],\n",
       "         [0.12941177, 0.06666667, 0.01568628],\n",
       "         [0.12941177, 0.06666667, 0.01568628],\n",
       "         ...,\n",
       "         [0.35686275, 0.25490198, 0.20392159],\n",
       "         [0.35686275, 0.25490198, 0.20392159],\n",
       "         [0.36078432, 0.25882354, 0.20784315]],\n",
       "\n",
       "        [[0.1254902 , 0.0627451 , 0.01176471],\n",
       "         [0.1254902 , 0.0627451 , 0.01176471],\n",
       "         [0.1254902 , 0.0627451 , 0.01176471],\n",
       "         ...,\n",
       "         [0.35686275, 0.25490198, 0.20392159],\n",
       "         [0.36078432, 0.25882354, 0.20784315],\n",
       "         [0.36078432, 0.25882354, 0.20784315]],\n",
       "\n",
       "        [[0.1254902 , 0.0627451 , 0.01176471],\n",
       "         [0.1254902 , 0.0627451 , 0.01176471],\n",
       "         [0.1254902 , 0.0627451 , 0.01176471],\n",
       "         ...,\n",
       "         [0.35686275, 0.25490198, 0.20392159],\n",
       "         [0.36078432, 0.25882354, 0.20784315],\n",
       "         [0.36078432, 0.25882354, 0.20784315]]]], dtype=float32)"
      ]
     },
     "execution_count": 44,
     "metadata": {},
     "output_type": "execute_result"
    }
   ],
   "source": [
    "x_test"
   ]
  },
  {
   "cell_type": "code",
   "execution_count": 45,
   "metadata": {},
   "outputs": [
    {
     "data": {
      "text/plain": [
       "array([[0., 0., 1., 0.],\n",
       "       [1., 0., 0., 0.],\n",
       "       [1., 0., 0., 0.],\n",
       "       [1., 0., 0., 0.],\n",
       "       [0., 0., 0., 1.],\n",
       "       [0., 0., 1., 0.],\n",
       "       [0., 0., 1., 0.],\n",
       "       [0., 0., 1., 0.],\n",
       "       [1., 0., 0., 0.],\n",
       "       [1., 0., 0., 0.],\n",
       "       [0., 0., 1., 0.],\n",
       "       [0., 0., 0., 1.],\n",
       "       [0., 1., 0., 0.],\n",
       "       [0., 0., 0., 1.],\n",
       "       [0., 1., 0., 0.],\n",
       "       [0., 0., 1., 0.],\n",
       "       [0., 0., 1., 0.],\n",
       "       [0., 1., 0., 0.],\n",
       "       [1., 0., 0., 0.],\n",
       "       [0., 0., 1., 0.],\n",
       "       [0., 0., 0., 1.],\n",
       "       [1., 0., 0., 0.],\n",
       "       [1., 0., 0., 0.],\n",
       "       [1., 0., 0., 0.],\n",
       "       [0., 0., 1., 0.],\n",
       "       [0., 0., 0., 1.],\n",
       "       [0., 1., 0., 0.],\n",
       "       [0., 1., 0., 0.],\n",
       "       [0., 0., 0., 1.],\n",
       "       [0., 0., 0., 1.],\n",
       "       [0., 0., 0., 1.],\n",
       "       [0., 1., 0., 0.]], dtype=float32)"
      ]
     },
     "execution_count": 45,
     "metadata": {},
     "output_type": "execute_result"
    }
   ],
   "source": [
    "y_test"
   ]
  },
  {
   "cell_type": "code",
   "execution_count": 46,
   "metadata": {},
   "outputs": [
    {
     "data": {
      "text/plain": [
       "(32, 224, 224, 3)"
      ]
     },
     "execution_count": 46,
     "metadata": {},
     "output_type": "execute_result"
    }
   ],
   "source": [
    "x_test.shape"
   ]
  },
  {
   "cell_type": "code",
   "execution_count": 47,
   "metadata": {},
   "outputs": [
    {
     "data": {
      "text/plain": [
       "(32, 4)"
      ]
     },
     "execution_count": 47,
     "metadata": {},
     "output_type": "execute_result"
    }
   ],
   "source": [
    "y_test.shape"
   ]
  },
  {
   "cell_type": "code",
   "execution_count": 48,
   "metadata": {},
   "outputs": [],
   "source": [
    "test_path = 'dataset/train_data/'"
   ]
  },
  {
   "cell_type": "code",
   "execution_count": 49,
   "metadata": {},
   "outputs": [],
   "source": [
    "test_image = load_img(test_path+ 'class-3/33.jpg', target_size=(img_rows, img_cols))"
   ]
  },
  {
   "cell_type": "code",
   "execution_count": 50,
   "metadata": {},
   "outputs": [
    {
     "name": "stdout",
     "output_type": "stream",
     "text": [
      "1/1 [==============================] - 11s 11s/step\n"
     ]
    }
   ],
   "source": [
    "# predict class of image from model\n",
    "import numpy as np\n",
    "test_image = img_to_array(test_image)\n",
    "test_image = test_image/255\n",
    "test_image = np.expand_dims(test_image, axis=0)\n",
    "result = face_recog_model.predict(test_image)"
   ]
  },
  {
   "cell_type": "code",
   "execution_count": 51,
   "metadata": {},
   "outputs": [
    {
     "data": {
      "text/plain": [
       "array([[1.8399542e-02, 1.1040643e-04, 8.4383272e-02, 8.9710683e-01]],\n",
       "      dtype=float32)"
      ]
     },
     "execution_count": 51,
     "metadata": {},
     "output_type": "execute_result"
    }
   ],
   "source": [
    "result"
   ]
  },
  {
   "cell_type": "code",
   "execution_count": 52,
   "metadata": {},
   "outputs": [],
   "source": [
    "# get max value from result\n",
    "pred_index = np.argmax(result, axis=1)"
   ]
  },
  {
   "cell_type": "code",
   "execution_count": 53,
   "metadata": {},
   "outputs": [],
   "source": [
    "class_dict = training_set.class_indices"
   ]
  },
  {
   "cell_type": "code",
   "execution_count": 54,
   "metadata": {},
   "outputs": [
    {
     "data": {
      "text/plain": [
       "{'class-0': 0, 'class-1': 1, 'class-2': 2, 'class-3': 3}"
      ]
     },
     "execution_count": 54,
     "metadata": {},
     "output_type": "execute_result"
    }
   ],
   "source": [
    "class_dict"
   ]
  },
  {
   "cell_type": "code",
   "execution_count": 55,
   "metadata": {},
   "outputs": [],
   "source": [
    "# get class from pred_index\n",
    "pred_class = [k for k, v in class_dict.items() if v == pred_index]"
   ]
  },
  {
   "cell_type": "code",
   "execution_count": 56,
   "metadata": {},
   "outputs": [
    {
     "data": {
      "text/plain": [
       "['class-3']"
      ]
     },
     "execution_count": 56,
     "metadata": {},
     "output_type": "execute_result"
    }
   ],
   "source": [
    "pred_class"
   ]
  },
  {
   "cell_type": "code",
   "execution_count": 57,
   "metadata": {},
   "outputs": [],
   "source": [
    "def predict_class(img_path):\n",
    "    test_image = load_img(img_path, target_size=(img_rows, img_cols))\n",
    "    test_image = img_to_array(test_image)\n",
    "    test_image = test_image/255\n",
    "    test_image = np.expand_dims(test_image, axis=0)\n",
    "    result = face_recog_model.predict(test_image)\n",
    "    pred_index = np.argmax(result, axis=1)\n",
    "    pred_class = [k for k, v in class_dict.items() if v == pred_index]\n",
    "    return result, pred_class"
   ]
  },
  {
   "cell_type": "code",
   "execution_count": 58,
   "metadata": {},
   "outputs": [],
   "source": [
    "import cv2"
   ]
  },
  {
   "cell_type": "code",
   "execution_count": 59,
   "metadata": {},
   "outputs": [
    {
     "name": "stdout",
     "output_type": "stream",
     "text": [
      "1/1 [==============================] - 6s 6s/step\n"
     ]
    }
   ],
   "source": [
    "res, pred_class = predict_class('face.jpg')"
   ]
  },
  {
   "cell_type": "code",
   "execution_count": 60,
   "metadata": {},
   "outputs": [
    {
     "data": {
      "text/plain": [
       "array([[9.7584188e-01, 5.7943142e-04, 3.3707502e-03, 2.0207897e-02]],\n",
       "      dtype=float32)"
      ]
     },
     "execution_count": 60,
     "metadata": {},
     "output_type": "execute_result"
    }
   ],
   "source": [
    "res"
   ]
  },
  {
   "cell_type": "code",
   "execution_count": 61,
   "metadata": {},
   "outputs": [
    {
     "data": {
      "text/plain": [
       "['class-0']"
      ]
     },
     "execution_count": 61,
     "metadata": {},
     "output_type": "execute_result"
    }
   ],
   "source": [
    "pred_class"
   ]
  },
  {
   "cell_type": "code",
   "execution_count": 62,
   "metadata": {},
   "outputs": [],
   "source": [
    "def predict_class(frame):\n",
    "    test_image = cv2.resize(frame, (img_rows, img_cols))\n",
    "    test_image = img_to_array(test_image)\n",
    "    test_image = test_image/255\n",
    "    test_image = np.expand_dims(test_image, axis=0)\n",
    "    result = face_recog_model.predict(test_image)\n",
    "    pred_index = np.argmax(result, axis=1)\n",
    "    pred_class = [k for k, v in class_dict.items() if v == pred_index]\n",
    "    return result, pred_class"
   ]
  },
  {
   "cell_type": "code",
   "execution_count": 64,
   "metadata": {},
   "outputs": [],
   "source": [
    "from mtcnn import MTCNN\n",
    "def detect_faces(img):\n",
    "    # Create a detector\n",
    "    detector = MTCNN()\n",
    "    # Detect faces\n",
    "    faces = detector.detect_faces(img)\n",
    "    return faces"
   ]
  },
  {
   "cell_type": "code",
   "execution_count": 65,
   "metadata": {},
   "outputs": [],
   "source": [
    "def draw_faces(img, faces):\n",
    "    # Draw faces\n",
    "    for face in faces:\n",
    "        # Get the information from the dictionary\n",
    "        x, y, width, height = face['box']\n",
    "        x2, y2 = x + width, y + height\n",
    "        # Draw the box into the image\n",
    "        cv2.rectangle(img, (x, y), (x2, y2), (0, 0, 255), 1)\n",
    "    return img"
   ]
  },
  {
   "cell_type": "code",
   "execution_count": 66,
   "metadata": {},
   "outputs": [],
   "source": [
    "test_image = load_img('new.jpg', target_size=(img_rows, img_cols))"
   ]
  },
  {
   "cell_type": "code",
   "execution_count": 67,
   "metadata": {},
   "outputs": [],
   "source": [
    "# face detection\n",
    "import cv2\n",
    "img = cv2.imread('new.jpg')\n",
    "img = cv2.resize(img, (680, 480))"
   ]
  },
  {
   "cell_type": "code",
   "execution_count": 68,
   "metadata": {},
   "outputs": [
    {
     "name": "stdout",
     "output_type": "stream",
     "text": [
      "1/1 [==============================] - 9s 9s/step\n",
      "1/1 [==============================] - 7s 7s/step\n",
      "1/1 [==============================] - 5s 5s/step\n",
      "1/1 [==============================] - 3s 3s/step\n",
      "1/1 [==============================] - 3s 3s/step\n",
      "1/1 [==============================] - 3s 3s/step\n",
      "1/1 [==============================] - 3s 3s/step\n",
      "1/1 [==============================] - 3s 3s/step\n",
      "1/1 [==============================] - 3s 3s/step\n",
      "1/1 [==============================] - 3s 3s/step\n",
      "1/1 [==============================] - 8s 8s/step\n",
      "1/1 [==============================] - 9s 9s/step\n"
     ]
    }
   ],
   "source": [
    "import matplotlib.pyplot as plt\n",
    "face = detect_faces(img)\n",
    "box = face[0]['box']\n",
    "x, y, w, h = box\n",
    "x2, y2 = x+w, y+h\n",
    "new_img = img[y:y2, x:x2]\n",
    "cv2.imshow('new_img', new_img)\n",
    "cv2.waitKey(0)\n",
    "cv2.destroyAllWindows()"
   ]
  },
  {
   "cell_type": "code",
   "execution_count": 69,
   "metadata": {},
   "outputs": [
    {
     "data": {
      "text/plain": [
       "[154, 191, 199, 227]"
      ]
     },
     "execution_count": 69,
     "metadata": {},
     "output_type": "execute_result"
    }
   ],
   "source": [
    "box"
   ]
  },
  {
   "cell_type": "code",
   "execution_count": 68,
   "metadata": {},
   "outputs": [
    {
     "data": {
      "text/plain": [
       "(227, 199, 3)"
      ]
     },
     "execution_count": 68,
     "metadata": {},
     "output_type": "execute_result"
    }
   ],
   "source": [
    "new_img.shape"
   ]
  },
  {
   "cell_type": "code",
   "execution_count": 69,
   "metadata": {},
   "outputs": [],
   "source": [
    "imgg = img[y:y2, x:x2]"
   ]
  },
  {
   "cell_type": "code",
   "execution_count": 70,
   "metadata": {},
   "outputs": [],
   "source": [
    "\n",
    "cv2.imshow('imgg', imgg)\n",
    "cv2.waitKey(0)\n",
    "cv2.destroyAllWindows()"
   ]
  },
  {
   "cell_type": "code",
   "execution_count": null,
   "metadata": {},
   "outputs": [],
   "source": []
  },
  {
   "cell_type": "code",
   "execution_count": null,
   "metadata": {},
   "outputs": [],
   "source": []
  }
 ],
 "metadata": {
  "kernelspec": {
   "display_name": "Python 3",
   "language": "python",
   "name": "python3"
  },
  "language_info": {
   "codemirror_mode": {
    "name": "ipython",
    "version": 3
   },
   "file_extension": ".py",
   "mimetype": "text/x-python",
   "name": "python",
   "nbconvert_exporter": "python",
   "pygments_lexer": "ipython3",
   "version": "3.11.5"
  }
 },
 "nbformat": 4,
 "nbformat_minor": 2
}
